{
 "cells": [
  {
   "cell_type": "code",
   "execution_count": 2,
   "id": "661b0814",
   "metadata": {
    "execution": {
     "iopub.execute_input": "2025-05-02T14:46:03.045186Z",
     "iopub.status.busy": "2025-05-02T14:46:03.044601Z",
     "iopub.status.idle": "2025-05-02T14:46:03.050855Z",
     "shell.execute_reply": "2025-05-02T14:46:03.050169Z",
     "shell.execute_reply.started": "2025-05-02T14:46:03.045151Z"
    },
    "trusted": true
   },
   "outputs": [
    {
     "data": {
      "text/html": [
       "<div style=\"text-align: center;margin-top:20px\"><img src=\"img.jpg\" style=\"max-width: 100%; height: 500px;\" /></div>"
      ],
      "text/plain": [
       "<IPython.core.display.HTML object>"
      ]
     },
     "metadata": {},
     "output_type": "display_data"
    }
   ],
   "source": [
    "from IPython.display import display, HTML\n",
    "\n",
    "image_path = r\"img.jpg\"\n",
    "\n",
    "display(HTML(f'<div style=\"text-align: center;margin-top:20px\"><img src=\"{image_path}\" style=\"max-width: 100%; height: 500px;\" /></div>'))\n",
    "\n",
    "\n"
   ]
  },
  {
   "cell_type": "markdown",
   "id": "735ec7d3",
   "metadata": {},
   "source": [
    "# **Project Overvew**\n",
    "  - **Data Exploration**\n",
    "  - **Data Preprocessing**\n",
    "  - **Feature Engineering**\n",
    "  - **ML Models**\n",
    "  - **Model Evaluations**\n",
    "  - **Model Deployment**"
   ]
  },
  {
   "cell_type": "code",
   "execution_count": 3,
   "id": "c7fc4888-803d-4def-b939-12bd18089c64",
   "metadata": {
    "execution": {
     "iopub.execute_input": "2025-05-02T14:46:03.060625Z",
     "iopub.status.busy": "2025-05-02T14:46:03.060425Z",
     "iopub.status.idle": "2025-05-02T14:46:03.070333Z",
     "shell.execute_reply": "2025-05-02T14:46:03.069831Z",
     "shell.execute_reply.started": "2025-05-02T14:46:03.060609Z"
    },
    "trusted": true
   },
   "outputs": [],
   "source": [
    "import pandas as pd\n",
    "import numpy as np\n",
    "import seaborn as sns\n",
    "import matplotlib.pyplot as plt\n",
    "from sklearn.preprocessing import LabelEncoder\n",
    "from sklearn.metrics import (\n",
    "    accuracy_score, classification_report, confusion_matrix, ConfusionMatrixDisplay, f1_score\n",
    ")\n",
    "from sklearn_genetic import GASearchCV\n",
    "from sklearn_genetic.space import Categorical, Integer, Continuous\n",
    "from sklearn.model_selection import train_test_split\n",
    "from sklearn.metrics import accuracy_score\n",
    "from sklearn.svm import SVC\n",
    "from sklearn.linear_model import LogisticRegression\n",
    "from sklearn.naive_bayes import GaussianNB\n",
    "from sklearn.neighbors import KNeighborsClassifier\n",
    "from sklearn.ensemble import RandomForestClassifier\n",
    "from sklearn.preprocessing import MinMaxScaler\n",
    "from tensorflow.keras.models import Sequential\n",
    "from tensorflow.keras.layers import Dense, Dropout\n",
    "from tensorflow.keras.optimizers import Adam\n",
    "from tensorflow.keras.callbacks import EarlyStopping\n",
    "from sklearn.metrics import confusion_matrix,accuracy_score,recall_score\n"
   ]
  },
  {
   "cell_type": "code",
   "execution_count": 4,
   "id": "8b3cc613-637b-4bd1-b97c-597e225c7a37",
   "metadata": {
    "execution": {
     "iopub.execute_input": "2025-05-02T14:46:03.093929Z",
     "iopub.status.busy": "2025-05-02T14:46:03.093693Z",
     "iopub.status.idle": "2025-05-02T14:46:03.116237Z",
     "shell.execute_reply": "2025-05-02T14:46:03.115550Z",
     "shell.execute_reply.started": "2025-05-02T14:46:03.093905Z"
    },
    "trusted": true
   },
   "outputs": [],
   "source": [
    "df=pd.read_csv('/kaggle/input/dataset/Depression Student Dataset.csv')\n"
   ]
  },
  {
   "cell_type": "markdown",
   "id": "816be80d-6417-4e46-8d0a-a3b8c2e923b9",
   "metadata": {},
   "source": [
    "# **Data Exploration**"
   ]
  },
  {
   "cell_type": "code",
   "execution_count": 5,
   "id": "55eabf28-04a9-48e1-8cd1-331c0383b881",
   "metadata": {
    "execution": {
     "iopub.execute_input": "2025-05-02T14:46:03.125382Z",
     "iopub.status.busy": "2025-05-02T14:46:03.125170Z",
     "iopub.status.idle": "2025-05-02T14:46:03.153652Z",
     "shell.execute_reply": "2025-05-02T14:46:03.153151Z",
     "shell.execute_reply.started": "2025-05-02T14:46:03.125364Z"
    },
    "trusted": true
   },
   "outputs": [
    {
     "data": {
      "text/html": [
       "<div>\n",
       "<style scoped>\n",
       "    .dataframe tbody tr th:only-of-type {\n",
       "        vertical-align: middle;\n",
       "    }\n",
       "\n",
       "    .dataframe tbody tr th {\n",
       "        vertical-align: top;\n",
       "    }\n",
       "\n",
       "    .dataframe thead th {\n",
       "        text-align: right;\n",
       "    }\n",
       "</style>\n",
       "<table border=\"1\" class=\"dataframe\">\n",
       "  <thead>\n",
       "    <tr style=\"text-align: right;\">\n",
       "      <th></th>\n",
       "      <th>Gender</th>\n",
       "      <th>Age</th>\n",
       "      <th>Academic Pressure</th>\n",
       "      <th>Study Satisfaction</th>\n",
       "      <th>Sleep Duration</th>\n",
       "      <th>Dietary Habits</th>\n",
       "      <th>Have you ever had suicidal thoughts ?</th>\n",
       "      <th>Study Hours</th>\n",
       "      <th>Financial Stress</th>\n",
       "      <th>Family History of Mental Illness</th>\n",
       "      <th>Depression</th>\n",
       "    </tr>\n",
       "  </thead>\n",
       "  <tbody>\n",
       "    <tr>\n",
       "      <th>0</th>\n",
       "      <td>Male</td>\n",
       "      <td>28</td>\n",
       "      <td>2.0</td>\n",
       "      <td>4.0</td>\n",
       "      <td>7-8 hours</td>\n",
       "      <td>Moderate</td>\n",
       "      <td>Yes</td>\n",
       "      <td>9</td>\n",
       "      <td>2</td>\n",
       "      <td>Yes</td>\n",
       "      <td>No</td>\n",
       "    </tr>\n",
       "    <tr>\n",
       "      <th>1</th>\n",
       "      <td>Male</td>\n",
       "      <td>28</td>\n",
       "      <td>4.0</td>\n",
       "      <td>5.0</td>\n",
       "      <td>5-6 hours</td>\n",
       "      <td>Healthy</td>\n",
       "      <td>Yes</td>\n",
       "      <td>7</td>\n",
       "      <td>1</td>\n",
       "      <td>Yes</td>\n",
       "      <td>No</td>\n",
       "    </tr>\n",
       "    <tr>\n",
       "      <th>2</th>\n",
       "      <td>Male</td>\n",
       "      <td>25</td>\n",
       "      <td>1.0</td>\n",
       "      <td>3.0</td>\n",
       "      <td>5-6 hours</td>\n",
       "      <td>Unhealthy</td>\n",
       "      <td>Yes</td>\n",
       "      <td>10</td>\n",
       "      <td>4</td>\n",
       "      <td>No</td>\n",
       "      <td>Yes</td>\n",
       "    </tr>\n",
       "    <tr>\n",
       "      <th>3</th>\n",
       "      <td>Male</td>\n",
       "      <td>23</td>\n",
       "      <td>1.0</td>\n",
       "      <td>4.0</td>\n",
       "      <td>More than 8 hours</td>\n",
       "      <td>Unhealthy</td>\n",
       "      <td>Yes</td>\n",
       "      <td>7</td>\n",
       "      <td>2</td>\n",
       "      <td>Yes</td>\n",
       "      <td>No</td>\n",
       "    </tr>\n",
       "    <tr>\n",
       "      <th>4</th>\n",
       "      <td>Female</td>\n",
       "      <td>31</td>\n",
       "      <td>1.0</td>\n",
       "      <td>5.0</td>\n",
       "      <td>More than 8 hours</td>\n",
       "      <td>Healthy</td>\n",
       "      <td>Yes</td>\n",
       "      <td>4</td>\n",
       "      <td>2</td>\n",
       "      <td>Yes</td>\n",
       "      <td>No</td>\n",
       "    </tr>\n",
       "  </tbody>\n",
       "</table>\n",
       "</div>"
      ],
      "text/plain": [
       "   Gender  Age  Academic Pressure  Study Satisfaction     Sleep Duration  \\\n",
       "0    Male   28                2.0                 4.0          7-8 hours   \n",
       "1    Male   28                4.0                 5.0          5-6 hours   \n",
       "2    Male   25                1.0                 3.0          5-6 hours   \n",
       "3    Male   23                1.0                 4.0  More than 8 hours   \n",
       "4  Female   31                1.0                 5.0  More than 8 hours   \n",
       "\n",
       "  Dietary Habits Have you ever had suicidal thoughts ?  Study Hours  \\\n",
       "0       Moderate                                   Yes            9   \n",
       "1        Healthy                                   Yes            7   \n",
       "2      Unhealthy                                   Yes           10   \n",
       "3      Unhealthy                                   Yes            7   \n",
       "4        Healthy                                   Yes            4   \n",
       "\n",
       "   Financial Stress Family History of Mental Illness Depression  \n",
       "0                 2                              Yes         No  \n",
       "1                 1                              Yes         No  \n",
       "2                 4                               No        Yes  \n",
       "3                 2                              Yes         No  \n",
       "4                 2                              Yes         No  "
      ]
     },
     "execution_count": 5,
     "metadata": {},
     "output_type": "execute_result"
    }
   ],
   "source": [
    "df.head()"
   ]
  },
  {
   "cell_type": "code",
   "execution_count": 6,
   "id": "72252b15-10ce-4703-9e03-526da4812dd0",
   "metadata": {
    "execution": {
     "iopub.execute_input": "2025-05-02T14:46:03.157065Z",
     "iopub.status.busy": "2025-05-02T14:46:03.156832Z",
     "iopub.status.idle": "2025-05-02T14:46:03.166961Z",
     "shell.execute_reply": "2025-05-02T14:46:03.166205Z",
     "shell.execute_reply.started": "2025-05-02T14:46:03.157050Z"
    },
    "trusted": true
   },
   "outputs": [
    {
     "data": {
      "text/html": [
       "<div>\n",
       "<style scoped>\n",
       "    .dataframe tbody tr th:only-of-type {\n",
       "        vertical-align: middle;\n",
       "    }\n",
       "\n",
       "    .dataframe tbody tr th {\n",
       "        vertical-align: top;\n",
       "    }\n",
       "\n",
       "    .dataframe thead th {\n",
       "        text-align: right;\n",
       "    }\n",
       "</style>\n",
       "<table border=\"1\" class=\"dataframe\">\n",
       "  <thead>\n",
       "    <tr style=\"text-align: right;\">\n",
       "      <th></th>\n",
       "      <th>Gender</th>\n",
       "      <th>Age</th>\n",
       "      <th>Academic Pressure</th>\n",
       "      <th>Study Satisfaction</th>\n",
       "      <th>Sleep Duration</th>\n",
       "      <th>Dietary Habits</th>\n",
       "      <th>Have you ever had suicidal thoughts ?</th>\n",
       "      <th>Study Hours</th>\n",
       "      <th>Financial Stress</th>\n",
       "      <th>Family History of Mental Illness</th>\n",
       "      <th>Depression</th>\n",
       "    </tr>\n",
       "  </thead>\n",
       "  <tbody>\n",
       "    <tr>\n",
       "      <th>497</th>\n",
       "      <td>Male</td>\n",
       "      <td>26</td>\n",
       "      <td>5.0</td>\n",
       "      <td>2.0</td>\n",
       "      <td>More than 8 hours</td>\n",
       "      <td>Unhealthy</td>\n",
       "      <td>No</td>\n",
       "      <td>8</td>\n",
       "      <td>3</td>\n",
       "      <td>No</td>\n",
       "      <td>Yes</td>\n",
       "    </tr>\n",
       "    <tr>\n",
       "      <th>498</th>\n",
       "      <td>Male</td>\n",
       "      <td>24</td>\n",
       "      <td>2.0</td>\n",
       "      <td>1.0</td>\n",
       "      <td>Less than 5 hours</td>\n",
       "      <td>Unhealthy</td>\n",
       "      <td>Yes</td>\n",
       "      <td>8</td>\n",
       "      <td>5</td>\n",
       "      <td>No</td>\n",
       "      <td>Yes</td>\n",
       "    </tr>\n",
       "    <tr>\n",
       "      <th>499</th>\n",
       "      <td>Female</td>\n",
       "      <td>23</td>\n",
       "      <td>3.0</td>\n",
       "      <td>5.0</td>\n",
       "      <td>5-6 hours</td>\n",
       "      <td>Healthy</td>\n",
       "      <td>No</td>\n",
       "      <td>1</td>\n",
       "      <td>5</td>\n",
       "      <td>Yes</td>\n",
       "      <td>No</td>\n",
       "    </tr>\n",
       "    <tr>\n",
       "      <th>500</th>\n",
       "      <td>Male</td>\n",
       "      <td>33</td>\n",
       "      <td>4.0</td>\n",
       "      <td>4.0</td>\n",
       "      <td>More than 8 hours</td>\n",
       "      <td>Healthy</td>\n",
       "      <td>No</td>\n",
       "      <td>8</td>\n",
       "      <td>1</td>\n",
       "      <td>Yes</td>\n",
       "      <td>No</td>\n",
       "    </tr>\n",
       "    <tr>\n",
       "      <th>501</th>\n",
       "      <td>Male</td>\n",
       "      <td>18</td>\n",
       "      <td>5.0</td>\n",
       "      <td>3.0</td>\n",
       "      <td>More than 8 hours</td>\n",
       "      <td>Unhealthy</td>\n",
       "      <td>No</td>\n",
       "      <td>6</td>\n",
       "      <td>2</td>\n",
       "      <td>Yes</td>\n",
       "      <td>Yes</td>\n",
       "    </tr>\n",
       "  </tbody>\n",
       "</table>\n",
       "</div>"
      ],
      "text/plain": [
       "     Gender  Age  Academic Pressure  Study Satisfaction     Sleep Duration  \\\n",
       "497    Male   26                5.0                 2.0  More than 8 hours   \n",
       "498    Male   24                2.0                 1.0  Less than 5 hours   \n",
       "499  Female   23                3.0                 5.0          5-6 hours   \n",
       "500    Male   33                4.0                 4.0  More than 8 hours   \n",
       "501    Male   18                5.0                 3.0  More than 8 hours   \n",
       "\n",
       "    Dietary Habits Have you ever had suicidal thoughts ?  Study Hours  \\\n",
       "497      Unhealthy                                    No            8   \n",
       "498      Unhealthy                                   Yes            8   \n",
       "499        Healthy                                    No            1   \n",
       "500        Healthy                                    No            8   \n",
       "501      Unhealthy                                    No            6   \n",
       "\n",
       "     Financial Stress Family History of Mental Illness Depression  \n",
       "497                 3                               No        Yes  \n",
       "498                 5                               No        Yes  \n",
       "499                 5                              Yes         No  \n",
       "500                 1                              Yes         No  \n",
       "501                 2                              Yes        Yes  "
      ]
     },
     "execution_count": 6,
     "metadata": {},
     "output_type": "execute_result"
    }
   ],
   "source": [
    "df.tail()"
   ]
  },
  {
   "cell_type": "code",
   "execution_count": 7,
   "id": "e86bad74-0247-4275-bdfe-b60cdf4d5304",
   "metadata": {
    "execution": {
     "iopub.execute_input": "2025-05-02T14:46:03.168254Z",
     "iopub.status.busy": "2025-05-02T14:46:03.167999Z",
     "iopub.status.idle": "2025-05-02T14:46:03.201557Z",
     "shell.execute_reply": "2025-05-02T14:46:03.200784Z",
     "shell.execute_reply.started": "2025-05-02T14:46:03.168239Z"
    },
    "trusted": true
   },
   "outputs": [
    {
     "data": {
      "text/html": [
       "<div>\n",
       "<style scoped>\n",
       "    .dataframe tbody tr th:only-of-type {\n",
       "        vertical-align: middle;\n",
       "    }\n",
       "\n",
       "    .dataframe tbody tr th {\n",
       "        vertical-align: top;\n",
       "    }\n",
       "\n",
       "    .dataframe thead th {\n",
       "        text-align: right;\n",
       "    }\n",
       "</style>\n",
       "<table border=\"1\" class=\"dataframe\">\n",
       "  <thead>\n",
       "    <tr style=\"text-align: right;\">\n",
       "      <th></th>\n",
       "      <th>Gender</th>\n",
       "      <th>Age</th>\n",
       "      <th>Academic Pressure</th>\n",
       "      <th>Study Satisfaction</th>\n",
       "      <th>Sleep Duration</th>\n",
       "      <th>Dietary Habits</th>\n",
       "      <th>Have you ever had suicidal thoughts ?</th>\n",
       "      <th>Study Hours</th>\n",
       "      <th>Financial Stress</th>\n",
       "      <th>Family History of Mental Illness</th>\n",
       "      <th>Depression</th>\n",
       "    </tr>\n",
       "  </thead>\n",
       "  <tbody>\n",
       "    <tr>\n",
       "      <th>413</th>\n",
       "      <td>Female</td>\n",
       "      <td>28</td>\n",
       "      <td>3.0</td>\n",
       "      <td>3.0</td>\n",
       "      <td>Less than 5 hours</td>\n",
       "      <td>Healthy</td>\n",
       "      <td>No</td>\n",
       "      <td>3</td>\n",
       "      <td>1</td>\n",
       "      <td>No</td>\n",
       "      <td>No</td>\n",
       "    </tr>\n",
       "    <tr>\n",
       "      <th>498</th>\n",
       "      <td>Male</td>\n",
       "      <td>24</td>\n",
       "      <td>2.0</td>\n",
       "      <td>1.0</td>\n",
       "      <td>Less than 5 hours</td>\n",
       "      <td>Unhealthy</td>\n",
       "      <td>Yes</td>\n",
       "      <td>8</td>\n",
       "      <td>5</td>\n",
       "      <td>No</td>\n",
       "      <td>Yes</td>\n",
       "    </tr>\n",
       "    <tr>\n",
       "      <th>255</th>\n",
       "      <td>Male</td>\n",
       "      <td>18</td>\n",
       "      <td>5.0</td>\n",
       "      <td>5.0</td>\n",
       "      <td>7-8 hours</td>\n",
       "      <td>Healthy</td>\n",
       "      <td>Yes</td>\n",
       "      <td>6</td>\n",
       "      <td>2</td>\n",
       "      <td>No</td>\n",
       "      <td>Yes</td>\n",
       "    </tr>\n",
       "    <tr>\n",
       "      <th>185</th>\n",
       "      <td>Male</td>\n",
       "      <td>34</td>\n",
       "      <td>4.0</td>\n",
       "      <td>5.0</td>\n",
       "      <td>Less than 5 hours</td>\n",
       "      <td>Moderate</td>\n",
       "      <td>Yes</td>\n",
       "      <td>3</td>\n",
       "      <td>2</td>\n",
       "      <td>Yes</td>\n",
       "      <td>No</td>\n",
       "    </tr>\n",
       "  </tbody>\n",
       "</table>\n",
       "</div>"
      ],
      "text/plain": [
       "     Gender  Age  Academic Pressure  Study Satisfaction     Sleep Duration  \\\n",
       "413  Female   28                3.0                 3.0  Less than 5 hours   \n",
       "498    Male   24                2.0                 1.0  Less than 5 hours   \n",
       "255    Male   18                5.0                 5.0          7-8 hours   \n",
       "185    Male   34                4.0                 5.0  Less than 5 hours   \n",
       "\n",
       "    Dietary Habits Have you ever had suicidal thoughts ?  Study Hours  \\\n",
       "413        Healthy                                    No            3   \n",
       "498      Unhealthy                                   Yes            8   \n",
       "255        Healthy                                   Yes            6   \n",
       "185       Moderate                                   Yes            3   \n",
       "\n",
       "     Financial Stress Family History of Mental Illness Depression  \n",
       "413                 1                               No         No  \n",
       "498                 5                               No        Yes  \n",
       "255                 2                               No        Yes  \n",
       "185                 2                              Yes         No  "
      ]
     },
     "execution_count": 7,
     "metadata": {},
     "output_type": "execute_result"
    }
   ],
   "source": [
    "df.sample(4)"
   ]
  },
  {
   "cell_type": "code",
   "execution_count": 8,
   "id": "6693d033-eb81-4ddc-a3c3-fcb77c049c38",
   "metadata": {
    "execution": {
     "iopub.execute_input": "2025-05-02T14:46:03.203061Z",
     "iopub.status.busy": "2025-05-02T14:46:03.202685Z",
     "iopub.status.idle": "2025-05-02T14:46:03.243737Z",
     "shell.execute_reply": "2025-05-02T14:46:03.242896Z",
     "shell.execute_reply.started": "2025-05-02T14:46:03.203038Z"
    },
    "trusted": true
   },
   "outputs": [
    {
     "name": "stdout",
     "output_type": "stream",
     "text": [
      "<class 'pandas.core.frame.DataFrame'>\n",
      "RangeIndex: 502 entries, 0 to 501\n",
      "Data columns (total 11 columns):\n",
      " #   Column                                 Non-Null Count  Dtype  \n",
      "---  ------                                 --------------  -----  \n",
      " 0   Gender                                 502 non-null    object \n",
      " 1   Age                                    502 non-null    int64  \n",
      " 2   Academic Pressure                      502 non-null    float64\n",
      " 3   Study Satisfaction                     502 non-null    float64\n",
      " 4   Sleep Duration                         502 non-null    object \n",
      " 5   Dietary Habits                         502 non-null    object \n",
      " 6   Have you ever had suicidal thoughts ?  502 non-null    object \n",
      " 7   Study Hours                            502 non-null    int64  \n",
      " 8   Financial Stress                       502 non-null    int64  \n",
      " 9   Family History of Mental Illness       502 non-null    object \n",
      " 10  Depression                             502 non-null    object \n",
      "dtypes: float64(2), int64(3), object(6)\n",
      "memory usage: 43.3+ KB\n"
     ]
    }
   ],
   "source": [
    "df.info()"
   ]
  },
  {
   "cell_type": "code",
   "execution_count": 9,
   "id": "776a5039-6490-4ee3-aa80-0583f47a5d0f",
   "metadata": {
    "execution": {
     "iopub.execute_input": "2025-05-02T14:46:03.245280Z",
     "iopub.status.busy": "2025-05-02T14:46:03.245046Z",
     "iopub.status.idle": "2025-05-02T14:46:03.265646Z",
     "shell.execute_reply": "2025-05-02T14:46:03.264913Z",
     "shell.execute_reply.started": "2025-05-02T14:46:03.245257Z"
    },
    "trusted": true
   },
   "outputs": [
    {
     "data": {
      "text/plain": [
       "Index(['Gender', 'Age', 'Academic Pressure', 'Study Satisfaction',\n",
       "       'Sleep Duration', 'Dietary Habits',\n",
       "       'Have you ever had suicidal thoughts ?', 'Study Hours',\n",
       "       'Financial Stress', 'Family History of Mental Illness', 'Depression'],\n",
       "      dtype='object')"
      ]
     },
     "execution_count": 9,
     "metadata": {},
     "output_type": "execute_result"
    }
   ],
   "source": [
    "df.columns"
   ]
  },
  {
   "cell_type": "code",
   "execution_count": 10,
   "id": "a429e5e5-a284-4af9-a40d-0884ecdec82a",
   "metadata": {
    "execution": {
     "iopub.execute_input": "2025-05-02T14:46:03.266594Z",
     "iopub.status.busy": "2025-05-02T14:46:03.266384Z",
     "iopub.status.idle": "2025-05-02T14:46:03.288485Z",
     "shell.execute_reply": "2025-05-02T14:46:03.287931Z",
     "shell.execute_reply.started": "2025-05-02T14:46:03.266571Z"
    },
    "trusted": true
   },
   "outputs": [
    {
     "data": {
      "text/plain": [
       "Academic Pressure\n",
       "3.0    125\n",
       "1.0     99\n",
       "5.0     98\n",
       "4.0     92\n",
       "2.0     88\n",
       "Name: count, dtype: int64"
      ]
     },
     "execution_count": 10,
     "metadata": {},
     "output_type": "execute_result"
    }
   ],
   "source": [
    "df['Academic Pressure'].value_counts()"
   ]
  },
  {
   "cell_type": "code",
   "execution_count": 11,
   "id": "dffd6e41-967a-4c29-811a-3bede54b8bdd",
   "metadata": {
    "execution": {
     "iopub.execute_input": "2025-05-02T14:46:03.289771Z",
     "iopub.status.busy": "2025-05-02T14:46:03.289589Z",
     "iopub.status.idle": "2025-05-02T14:46:03.304514Z",
     "shell.execute_reply": "2025-05-02T14:46:03.303837Z",
     "shell.execute_reply.started": "2025-05-02T14:46:03.289758Z"
    },
    "trusted": true
   },
   "outputs": [
    {
     "data": {
      "text/plain": [
       "Dietary Habits\n",
       "Moderate     172\n",
       "Unhealthy    169\n",
       "Healthy      161\n",
       "Name: count, dtype: int64"
      ]
     },
     "execution_count": 11,
     "metadata": {},
     "output_type": "execute_result"
    }
   ],
   "source": [
    "df['Dietary Habits'].value_counts()"
   ]
  },
  {
   "cell_type": "code",
   "execution_count": 12,
   "id": "fbfd743d-d920-46e4-933f-c5ce445a3da3",
   "metadata": {
    "execution": {
     "iopub.execute_input": "2025-05-02T14:46:03.305247Z",
     "iopub.status.busy": "2025-05-02T14:46:03.305075Z",
     "iopub.status.idle": "2025-05-02T14:46:03.323385Z",
     "shell.execute_reply": "2025-05-02T14:46:03.322840Z",
     "shell.execute_reply.started": "2025-05-02T14:46:03.305233Z"
    },
    "trusted": true
   },
   "outputs": [
    {
     "data": {
      "text/plain": [
       "Have you ever had suicidal thoughts ?\n",
       "Yes    260\n",
       "No     242\n",
       "Name: count, dtype: int64"
      ]
     },
     "execution_count": 12,
     "metadata": {},
     "output_type": "execute_result"
    }
   ],
   "source": [
    "df['Have you ever had suicidal thoughts ?'].value_counts()"
   ]
  },
  {
   "cell_type": "code",
   "execution_count": 13,
   "id": "a9b84be7-676a-4f4e-b43f-4e50e3b4305e",
   "metadata": {
    "execution": {
     "iopub.execute_input": "2025-05-02T14:46:03.324362Z",
     "iopub.status.busy": "2025-05-02T14:46:03.324111Z",
     "iopub.status.idle": "2025-05-02T14:46:03.341795Z",
     "shell.execute_reply": "2025-05-02T14:46:03.341130Z",
     "shell.execute_reply.started": "2025-05-02T14:46:03.324346Z"
    },
    "trusted": true
   },
   "outputs": [
    {
     "data": {
      "text/plain": [
       "Family History of Mental Illness\n",
       "No     265\n",
       "Yes    237\n",
       "Name: count, dtype: int64"
      ]
     },
     "execution_count": 13,
     "metadata": {},
     "output_type": "execute_result"
    }
   ],
   "source": [
    "df['Family History of Mental Illness'].value_counts()"
   ]
  },
  {
   "cell_type": "code",
   "execution_count": 14,
   "id": "f9df864d-de39-49cc-85e4-175a5bfcf0c2",
   "metadata": {
    "execution": {
     "iopub.execute_input": "2025-05-02T14:46:03.343456Z",
     "iopub.status.busy": "2025-05-02T14:46:03.343180Z",
     "iopub.status.idle": "2025-05-02T14:46:03.844463Z",
     "shell.execute_reply": "2025-05-02T14:46:03.843814Z",
     "shell.execute_reply.started": "2025-05-02T14:46:03.343433Z"
    },
    "trusted": true
   },
   "outputs": [
    {
     "name": "stderr",
     "output_type": "stream",
     "text": [
      "/usr/local/lib/python3.11/dist-packages/seaborn/_oldcore.py:1119: FutureWarning: use_inf_as_na option is deprecated and will be removed in a future version. Convert inf values to NaN before operating instead.\n",
      "  with pd.option_context('mode.use_inf_as_na', True):\n",
      "/usr/local/lib/python3.11/dist-packages/seaborn/_oldcore.py:1119: FutureWarning: use_inf_as_na option is deprecated and will be removed in a future version. Convert inf values to NaN before operating instead.\n",
      "  with pd.option_context('mode.use_inf_as_na', True):\n"
     ]
    },
    {
     "data": {
      "text/plain": [
       "<Axes: xlabel='Study Hours', ylabel='Depression'>"
      ]
     },
     "execution_count": 14,
     "metadata": {},
     "output_type": "execute_result"
    },
    {
     "data": {
      "image/png": "[encoded data removed]",
      "text/plain": [
       "<Figure size 1600x500 with 1 Axes>"
      ]
     },
     "metadata": {},
     "output_type": "display_data"
    }
   ],
   "source": [
    "plt.figure(figsize=(16,5))\n",
    "sns.lineplot(x=df['Study Hours'],y=df['Depression'])"
   ]
  },
  {
   "cell_type": "code",
   "execution_count": 15,
   "id": "4637b387-9e08-4ae3-9ede-acabda2fc789",
   "metadata": {
    "execution": {
     "iopub.execute_input": "2025-05-02T14:46:03.845313Z",
     "iopub.status.busy": "2025-05-02T14:46:03.845103Z",
     "iopub.status.idle": "2025-05-02T14:46:04.255169Z",
     "shell.execute_reply": "2025-05-02T14:46:04.254403Z",
     "shell.execute_reply.started": "2025-05-02T14:46:03.845299Z"
    },
    "trusted": true
   },
   "outputs": [
    {
     "name": "stderr",
     "output_type": "stream",
     "text": [
      "/usr/local/lib/python3.11/dist-packages/seaborn/_oldcore.py:1119: FutureWarning: use_inf_as_na option is deprecated and will be removed in a future version. Convert inf values to NaN before operating instead.\n",
      "  with pd.option_context('mode.use_inf_as_na', True):\n",
      "/usr/local/lib/python3.11/dist-packages/seaborn/_oldcore.py:1119: FutureWarning: use_inf_as_na option is deprecated and will be removed in a future version. Convert inf values to NaN before operating instead.\n",
      "  with pd.option_context('mode.use_inf_as_na', True):\n"
     ]
    },
    {
     "data": {
      "text/plain": [
       "<Axes: xlabel='Age', ylabel='Depression'>"
      ]
     },
     "execution_count": 15,
     "metadata": {},
     "output_type": "execute_result"
    },
    {
     "data": {
      "image/png": "[encoded data removed]",
      "text/plain": [
       "<Figure size 1600x500 with 1 Axes>"
      ]
     },
     "metadata": {},
     "output_type": "display_data"
    }
   ],
   "source": [
    "plt.figure(figsize=(16,5))\n",
    "sns.lineplot(x=df['Age'],y=df['Depression'])"
   ]
  },
  {
   "cell_type": "markdown",
   "id": "8d6e14d1-9d3b-4209-8f1d-8459a6208cf6",
   "metadata": {},
   "source": [
    "# Data Wrangling: \n",
    "  - Cleaning & Outliers\n",
    "  - Preparation & Tranformation\n"
   ]
  },
  {
   "cell_type": "code",
   "execution_count": 16,
   "id": "5675c752-9371-4edf-bc0d-755b5ddd3119",
   "metadata": {
    "execution": {
     "iopub.execute_input": "2025-05-02T14:46:04.256230Z",
     "iopub.status.busy": "2025-05-02T14:46:04.255988Z",
     "iopub.status.idle": "2025-05-02T14:46:04.262402Z",
     "shell.execute_reply": "2025-05-02T14:46:04.261727Z",
     "shell.execute_reply.started": "2025-05-02T14:46:04.256214Z"
    },
    "trusted": true
   },
   "outputs": [
    {
     "data": {
      "text/plain": [
       "Gender                                   0\n",
       "Age                                      0\n",
       "Academic Pressure                        0\n",
       "Study Satisfaction                       0\n",
       "Sleep Duration                           0\n",
       "Dietary Habits                           0\n",
       "Have you ever had suicidal thoughts ?    0\n",
       "Study Hours                              0\n",
       "Financial Stress                         0\n",
       "Family History of Mental Illness         0\n",
       "Depression                               0\n",
       "dtype: int64"
      ]
     },
     "execution_count": 16,
     "metadata": {},
     "output_type": "execute_result"
    }
   ],
   "source": [
    "df.isna().sum()"
   ]
  },
  {
   "cell_type": "code",
   "execution_count": 17,
   "id": "a7a118d8-84d8-433f-bc44-cce15e3228f3",
   "metadata": {
    "execution": {
     "iopub.execute_input": "2025-05-02T14:46:04.264630Z",
     "iopub.status.busy": "2025-05-02T14:46:04.264336Z",
     "iopub.status.idle": "2025-05-02T14:46:04.281031Z",
     "shell.execute_reply": "2025-05-02T14:46:04.280199Z",
     "shell.execute_reply.started": "2025-05-02T14:46:04.264610Z"
    },
    "trusted": true
   },
   "outputs": [
    {
     "data": {
      "text/plain": [
       "0"
      ]
     },
     "execution_count": 17,
     "metadata": {},
     "output_type": "execute_result"
    }
   ],
   "source": [
    "df.duplicated().sum()"
   ]
  },
  {
   "cell_type": "code",
   "execution_count": 18,
   "id": "28ec2e45-a226-4b13-8fc1-f16fd60b2949",
   "metadata": {
    "execution": {
     "iopub.execute_input": "2025-05-02T14:46:04.281839Z",
     "iopub.status.busy": "2025-05-02T14:46:04.281643Z",
     "iopub.status.idle": "2025-05-02T14:46:04.514573Z",
     "shell.execute_reply": "2025-05-02T14:46:04.513951Z",
     "shell.execute_reply.started": "2025-05-02T14:46:04.281818Z"
    },
    "trusted": true
   },
   "outputs": [
    {
     "data": {
      "text/plain": [
       "<Axes: >"
      ]
     },
     "execution_count": 18,
     "metadata": {},
     "output_type": "execute_result"
    },
    {
     "data": {
      "image/png": "[encoded data removed]",
      "text/plain": [
       "<Figure size 1600x500 with 1 Axes>"
      ]
     },
     "metadata": {},
     "output_type": "display_data"
    }
   ],
   "source": [
    "plt.figure(figsize=(16,5))\n",
    "df.boxplot()"
   ]
  },
  {
   "cell_type": "code",
   "execution_count": 19,
   "id": "e97cd36f-c2fd-4012-b8be-61bca5512bbd",
   "metadata": {
    "execution": {
     "iopub.execute_input": "2025-05-02T14:46:04.515594Z",
     "iopub.status.busy": "2025-05-02T14:46:04.515297Z",
     "iopub.status.idle": "2025-05-02T14:46:04.521518Z",
     "shell.execute_reply": "2025-05-02T14:46:04.520894Z",
     "shell.execute_reply.started": "2025-05-02T14:46:04.515569Z"
    },
    "trusted": true
   },
   "outputs": [
    {
     "data": {
      "text/plain": [
       "Gender                                    object\n",
       "Age                                        int64\n",
       "Academic Pressure                        float64\n",
       "Study Satisfaction                       float64\n",
       "Sleep Duration                            object\n",
       "Dietary Habits                            object\n",
       "Have you ever had suicidal thoughts ?     object\n",
       "Study Hours                                int64\n",
       "Financial Stress                           int64\n",
       "Family History of Mental Illness          object\n",
       "Depression                                object\n",
       "dtype: object"
      ]
     },
     "execution_count": 19,
     "metadata": {},
     "output_type": "execute_result"
    }
   ],
   "source": [
    "df.dtypes"
   ]
  },
  {
   "cell_type": "code",
   "execution_count": 20,
   "id": "61b41050-715f-45d8-8782-456d427c5d8f",
   "metadata": {
    "execution": {
     "iopub.execute_input": "2025-05-02T14:46:04.522681Z",
     "iopub.status.busy": "2025-05-02T14:46:04.522443Z",
     "iopub.status.idle": "2025-05-02T14:46:04.540823Z",
     "shell.execute_reply": "2025-05-02T14:46:04.540335Z",
     "shell.execute_reply.started": "2025-05-02T14:46:04.522663Z"
    },
    "trusted": true
   },
   "outputs": [],
   "source": [
    "Ecoder=LabelEncoder()\n",
    "df['Gender']=Ecoder.fit_transform(df['Gender'])\n",
    "df['Depression']=Ecoder.fit_transform(df['Depression'])\n",
    "df['Dietary Habits']=Ecoder.fit_transform(df['Dietary Habits'])\n",
    "df['Family History of Mental Illness']=Ecoder.fit_transform(df['Family History of Mental Illness'])\n",
    "df['Have you ever had suicidal thoughts ?']=Ecoder.fit_transform(df['Have you ever had suicidal thoughts ?'])"
   ]
  },
  {
   "cell_type": "code",
   "execution_count": 21,
   "id": "b08a18ca-baff-45cb-8468-71ed96d6d9d7",
   "metadata": {
    "execution": {
     "iopub.execute_input": "2025-05-02T14:46:04.541941Z",
     "iopub.status.busy": "2025-05-02T14:46:04.541449Z",
     "iopub.status.idle": "2025-05-02T14:46:04.560409Z",
     "shell.execute_reply": "2025-05-02T14:46:04.559838Z",
     "shell.execute_reply.started": "2025-05-02T14:46:04.541925Z"
    },
    "trusted": true
   },
   "outputs": [
    {
     "data": {
      "text/plain": [
       "Sleep Duration\n",
       "7-8 hours            128\n",
       "More than 8 hours    128\n",
       "5-6 hours            123\n",
       "Less than 5 hours    123\n",
       "Name: count, dtype: int64"
      ]
     },
     "execution_count": 21,
     "metadata": {},
     "output_type": "execute_result"
    }
   ],
   "source": [
    "df['Sleep Duration'].value_counts()"
   ]
  },
  {
   "cell_type": "code",
   "execution_count": 22,
   "id": "85d5d596-4542-4e6b-90e6-dd7ff2d5f0ae",
   "metadata": {
    "execution": {
     "iopub.execute_input": "2025-05-02T14:46:04.561208Z",
     "iopub.status.busy": "2025-05-02T14:46:04.561026Z",
     "iopub.status.idle": "2025-05-02T14:46:04.578187Z",
     "shell.execute_reply": "2025-05-02T14:46:04.577636Z",
     "shell.execute_reply.started": "2025-05-02T14:46:04.561195Z"
    },
    "trusted": true
   },
   "outputs": [],
   "source": [
    "sleep_duration_numeric_mapping = {\n",
    "    '7-8 hours': (7, 8),            # Range as (start, end)\n",
    "    '5-6 hours': (5, 6),            # Range as (start, end)\n",
    "    'More than 8 hours': (8.01, 24), # Open-ended range (>8.2)\n",
    "    'Less than 5 hours': (0, 4)     # Open-ended range (<5)\n",
    "}\n",
    "\n",
    "df['Sleep Duration'] = df['Sleep Duration'].map(sleep_duration_numeric_mapping)\n",
    "\n",
    "\n",
    "# Access individual elements (if needed)\n",
    "df['Sleep Duration Start'] = df['Sleep Duration'].map(lambda x: x[0])  \n",
    "df['Sleep Duration End'] = df['Sleep Duration'].map(lambda x: x[1])    \n",
    "\n"
   ]
  },
  {
   "cell_type": "code",
   "execution_count": 23,
   "id": "4cd8d183-d5a0-402b-a105-3871c3c90392",
   "metadata": {
    "execution": {
     "iopub.execute_input": "2025-05-02T14:46:04.579301Z",
     "iopub.status.busy": "2025-05-02T14:46:04.579074Z",
     "iopub.status.idle": "2025-05-02T14:46:04.604164Z",
     "shell.execute_reply": "2025-05-02T14:46:04.603577Z",
     "shell.execute_reply.started": "2025-05-02T14:46:04.579280Z"
    },
    "trusted": true
   },
   "outputs": [
    {
     "data": {
      "text/html": [
       "<div>\n",
       "<style scoped>\n",
       "    .dataframe tbody tr th:only-of-type {\n",
       "        vertical-align: middle;\n",
       "    }\n",
       "\n",
       "    .dataframe tbody tr th {\n",
       "        vertical-align: top;\n",
       "    }\n",
       "\n",
       "    .dataframe thead th {\n",
       "        text-align: right;\n",
       "    }\n",
       "</style>\n",
       "<table border=\"1\" class=\"dataframe\">\n",
       "  <thead>\n",
       "    <tr style=\"text-align: right;\">\n",
       "      <th></th>\n",
       "      <th>Gender</th>\n",
       "      <th>Age</th>\n",
       "      <th>Academic Pressure</th>\n",
       "      <th>Study Satisfaction</th>\n",
       "      <th>Sleep Duration</th>\n",
       "      <th>Dietary Habits</th>\n",
       "      <th>Have you ever had suicidal thoughts ?</th>\n",
       "      <th>Study Hours</th>\n",
       "      <th>Financial Stress</th>\n",
       "      <th>Family History of Mental Illness</th>\n",
       "      <th>Depression</th>\n",
       "      <th>Sleep Duration Start</th>\n",
       "      <th>Sleep Duration End</th>\n",
       "    </tr>\n",
       "  </thead>\n",
       "  <tbody>\n",
       "    <tr>\n",
       "      <th>0</th>\n",
       "      <td>1</td>\n",
       "      <td>28</td>\n",
       "      <td>2.0</td>\n",
       "      <td>4.0</td>\n",
       "      <td>(7, 8)</td>\n",
       "      <td>1</td>\n",
       "      <td>1</td>\n",
       "      <td>9</td>\n",
       "      <td>2</td>\n",
       "      <td>1</td>\n",
       "      <td>0</td>\n",
       "      <td>7.00</td>\n",
       "      <td>8</td>\n",
       "    </tr>\n",
       "    <tr>\n",
       "      <th>1</th>\n",
       "      <td>1</td>\n",
       "      <td>28</td>\n",
       "      <td>4.0</td>\n",
       "      <td>5.0</td>\n",
       "      <td>(5, 6)</td>\n",
       "      <td>0</td>\n",
       "      <td>1</td>\n",
       "      <td>7</td>\n",
       "      <td>1</td>\n",
       "      <td>1</td>\n",
       "      <td>0</td>\n",
       "      <td>5.00</td>\n",
       "      <td>6</td>\n",
       "    </tr>\n",
       "    <tr>\n",
       "      <th>2</th>\n",
       "      <td>1</td>\n",
       "      <td>25</td>\n",
       "      <td>1.0</td>\n",
       "      <td>3.0</td>\n",
       "      <td>(5, 6)</td>\n",
       "      <td>2</td>\n",
       "      <td>1</td>\n",
       "      <td>10</td>\n",
       "      <td>4</td>\n",
       "      <td>0</td>\n",
       "      <td>1</td>\n",
       "      <td>5.00</td>\n",
       "      <td>6</td>\n",
       "    </tr>\n",
       "    <tr>\n",
       "      <th>3</th>\n",
       "      <td>1</td>\n",
       "      <td>23</td>\n",
       "      <td>1.0</td>\n",
       "      <td>4.0</td>\n",
       "      <td>(8.01, 24)</td>\n",
       "      <td>2</td>\n",
       "      <td>1</td>\n",
       "      <td>7</td>\n",
       "      <td>2</td>\n",
       "      <td>1</td>\n",
       "      <td>0</td>\n",
       "      <td>8.01</td>\n",
       "      <td>24</td>\n",
       "    </tr>\n",
       "    <tr>\n",
       "      <th>4</th>\n",
       "      <td>0</td>\n",
       "      <td>31</td>\n",
       "      <td>1.0</td>\n",
       "      <td>5.0</td>\n",
       "      <td>(8.01, 24)</td>\n",
       "      <td>0</td>\n",
       "      <td>1</td>\n",
       "      <td>4</td>\n",
       "      <td>2</td>\n",
       "      <td>1</td>\n",
       "      <td>0</td>\n",
       "      <td>8.01</td>\n",
       "      <td>24</td>\n",
       "    </tr>\n",
       "  </tbody>\n",
       "</table>\n",
       "</div>"
      ],
      "text/plain": [
       "   Gender  Age  Academic Pressure  Study Satisfaction Sleep Duration  \\\n",
       "0       1   28                2.0                 4.0         (7, 8)   \n",
       "1       1   28                4.0                 5.0         (5, 6)   \n",
       "2       1   25                1.0                 3.0         (5, 6)   \n",
       "3       1   23                1.0                 4.0     (8.01, 24)   \n",
       "4       0   31                1.0                 5.0     (8.01, 24)   \n",
       "\n",
       "   Dietary Habits  Have you ever had suicidal thoughts ?  Study Hours  \\\n",
       "0               1                                      1            9   \n",
       "1               0                                      1            7   \n",
       "2               2                                      1           10   \n",
       "3               2                                      1            7   \n",
       "4               0                                      1            4   \n",
       "\n",
       "   Financial Stress  Family History of Mental Illness  Depression  \\\n",
       "0                 2                                 1           0   \n",
       "1                 1                                 1           0   \n",
       "2                 4                                 0           1   \n",
       "3                 2                                 1           0   \n",
       "4                 2                                 1           0   \n",
       "\n",
       "   Sleep Duration Start  Sleep Duration End  \n",
       "0                  7.00                   8  \n",
       "1                  5.00                   6  \n",
       "2                  5.00                   6  \n",
       "3                  8.01                  24  \n",
       "4                  8.01                  24  "
      ]
     },
     "execution_count": 23,
     "metadata": {},
     "output_type": "execute_result"
    }
   ],
   "source": [
    "df.head()"
   ]
  },
  {
   "cell_type": "markdown",
   "id": "950609b0-a512-4bbe-9d22-c5396af16688",
   "metadata": {},
   "source": [
    "# Feature Engineering\n",
    " - Feature Selection\n",
    " - Normalization\n"
   ]
  },
  {
   "cell_type": "code",
   "execution_count": 24,
   "id": "4c7d9f9e-74d5-4741-b594-02d96598d472",
   "metadata": {
    "execution": {
     "iopub.execute_input": "2025-05-02T14:46:04.606738Z",
     "iopub.status.busy": "2025-05-02T14:46:04.606245Z",
     "iopub.status.idle": "2025-05-02T14:46:04.625622Z",
     "shell.execute_reply": "2025-05-02T14:46:04.625081Z",
     "shell.execute_reply.started": "2025-05-02T14:46:04.606722Z"
    },
    "trusted": true
   },
   "outputs": [
    {
     "data": {
      "text/plain": [
       "Gender                                   0.031683\n",
       "Age                                     -0.215625\n",
       "Academic Pressure                        0.476259\n",
       "Study Satisfaction                      -0.293484\n",
       "Dietary Habits                           0.186685\n",
       "Have you ever had suicidal thoughts ?    0.466296\n",
       "Study Hours                              0.200441\n",
       "Financial Stress                         0.296846\n",
       "Family History of Mental Illness         0.056087\n",
       "Depression                               1.000000\n",
       "Sleep Duration Start                    -0.035794\n",
       "Sleep Duration End                      -0.064869\n",
       "Name: Depression, dtype: float64"
      ]
     },
     "execution_count": 24,
     "metadata": {},
     "output_type": "execute_result"
    }
   ],
   "source": [
    "df.corr(numeric_only=True)['Depression']"
   ]
  },
  {
   "cell_type": "code",
   "execution_count": 25,
   "id": "d2c09713",
   "metadata": {
    "execution": {
     "iopub.execute_input": "2025-05-02T14:46:04.626511Z",
     "iopub.status.busy": "2025-05-02T14:46:04.626326Z",
     "iopub.status.idle": "2025-05-02T14:46:04.933337Z",
     "shell.execute_reply": "2025-05-02T14:46:04.932479Z",
     "shell.execute_reply.started": "2025-05-02T14:46:04.626490Z"
    },
    "trusted": true
   },
   "outputs": [
    {
     "name": "stdout",
     "output_type": "stream",
     "text": [
      "                                  Feature  Importance\n",
      "2                       Academic Pressure    0.269037\n",
      "5   Have you ever had suicidal thoughts ?    0.264333\n",
      "3                      Study Satisfaction    0.101389\n",
      "7                        Financial Stress    0.101030\n",
      "1                                     Age    0.096683\n",
      "6                             Study Hours    0.073176\n",
      "4                          Dietary Habits    0.041950\n",
      "10                     Sleep Duration End    0.018186\n",
      "9                    Sleep Duration Start    0.016532\n",
      "8        Family History of Mental Illness    0.009084\n",
      "0                                  Gender    0.008599\n"
     ]
    },
    {
     "data": {
      "image/png": "[encoded data removed]",
      "text/plain": [
       "<Figure size 1000x400 with 1 Axes>"
      ]
     },
     "metadata": {},
     "output_type": "display_data"
    }
   ],
   "source": [
    "\n",
    "\n",
    "# Select only numerical columns\n",
    "numerical_df = df.select_dtypes(include='number')\n",
    "\n",
    "# Split features and target\n",
    "X = numerical_df.drop('Depression', axis=1)\n",
    "y = df['Depression']\n",
    "\n",
    "# Fit RandomForest model\n",
    "model = RandomForestClassifier(n_estimators=70, max_depth=5)\n",
    "model.fit(X, y)\n",
    "\n",
    "# Get feature importances\n",
    "importances = model.feature_importances_\n",
    "\n",
    "# Create a DataFrame for feature importances\n",
    "feature_importance_df = pd.DataFrame({\n",
    "    'Feature': X.columns,\n",
    "    'Importance': importances\n",
    "}).sort_values(by='Importance', ascending=False)\n",
    "\n",
    "# Print the feature importances\n",
    "print(feature_importance_df)\n",
    "\n",
    "# Plotting the feature importance\n",
    "plt.figure(figsize=(10, 4))\n",
    "sns.barplot(data=feature_importance_df, x='Importance', y='Feature', palette='viridis')\n",
    "plt.title('Feature Importance - Random Forest')\n",
    "plt.xlabel('Importance Score')\n",
    "plt.ylabel('Feature')\n",
    "plt.tight_layout()\n",
    "plt.show()\n"
   ]
  },
  {
   "cell_type": "code",
   "execution_count": 26,
   "id": "83a53e5d-50f9-48be-be66-7c0d2c65d8ca",
   "metadata": {
    "execution": {
     "iopub.execute_input": "2025-05-02T14:46:04.934128Z",
     "iopub.status.busy": "2025-05-02T14:46:04.933963Z",
     "iopub.status.idle": "2025-05-02T14:46:04.946847Z",
     "shell.execute_reply": "2025-05-02T14:46:04.946314Z",
     "shell.execute_reply.started": "2025-05-02T14:46:04.934116Z"
    },
    "trusted": true
   },
   "outputs": [
    {
     "data": {
      "text/html": [
       "<div>\n",
       "<style scoped>\n",
       "    .dataframe tbody tr th:only-of-type {\n",
       "        vertical-align: middle;\n",
       "    }\n",
       "\n",
       "    .dataframe tbody tr th {\n",
       "        vertical-align: top;\n",
       "    }\n",
       "\n",
       "    .dataframe thead th {\n",
       "        text-align: right;\n",
       "    }\n",
       "</style>\n",
       "<table border=\"1\" class=\"dataframe\">\n",
       "  <thead>\n",
       "    <tr style=\"text-align: right;\">\n",
       "      <th></th>\n",
       "      <th>Age</th>\n",
       "      <th>Academic Pressure</th>\n",
       "      <th>Study Satisfaction</th>\n",
       "      <th>Dietary Habits</th>\n",
       "      <th>Have you ever had suicidal thoughts ?</th>\n",
       "      <th>Study Hours</th>\n",
       "      <th>Financial Stress</th>\n",
       "      <th>Depression</th>\n",
       "    </tr>\n",
       "  </thead>\n",
       "  <tbody>\n",
       "    <tr>\n",
       "      <th>0</th>\n",
       "      <td>28</td>\n",
       "      <td>2.0</td>\n",
       "      <td>4.0</td>\n",
       "      <td>1</td>\n",
       "      <td>1</td>\n",
       "      <td>9</td>\n",
       "      <td>2</td>\n",
       "      <td>0</td>\n",
       "    </tr>\n",
       "    <tr>\n",
       "      <th>1</th>\n",
       "      <td>28</td>\n",
       "      <td>4.0</td>\n",
       "      <td>5.0</td>\n",
       "      <td>0</td>\n",
       "      <td>1</td>\n",
       "      <td>7</td>\n",
       "      <td>1</td>\n",
       "      <td>0</td>\n",
       "    </tr>\n",
       "    <tr>\n",
       "      <th>2</th>\n",
       "      <td>25</td>\n",
       "      <td>1.0</td>\n",
       "      <td>3.0</td>\n",
       "      <td>2</td>\n",
       "      <td>1</td>\n",
       "      <td>10</td>\n",
       "      <td>4</td>\n",
       "      <td>1</td>\n",
       "    </tr>\n",
       "    <tr>\n",
       "      <th>3</th>\n",
       "      <td>23</td>\n",
       "      <td>1.0</td>\n",
       "      <td>4.0</td>\n",
       "      <td>2</td>\n",
       "      <td>1</td>\n",
       "      <td>7</td>\n",
       "      <td>2</td>\n",
       "      <td>0</td>\n",
       "    </tr>\n",
       "    <tr>\n",
       "      <th>4</th>\n",
       "      <td>31</td>\n",
       "      <td>1.0</td>\n",
       "      <td>5.0</td>\n",
       "      <td>0</td>\n",
       "      <td>1</td>\n",
       "      <td>4</td>\n",
       "      <td>2</td>\n",
       "      <td>0</td>\n",
       "    </tr>\n",
       "    <tr>\n",
       "      <th>...</th>\n",
       "      <td>...</td>\n",
       "      <td>...</td>\n",
       "      <td>...</td>\n",
       "      <td>...</td>\n",
       "      <td>...</td>\n",
       "      <td>...</td>\n",
       "      <td>...</td>\n",
       "      <td>...</td>\n",
       "    </tr>\n",
       "    <tr>\n",
       "      <th>497</th>\n",
       "      <td>26</td>\n",
       "      <td>5.0</td>\n",
       "      <td>2.0</td>\n",
       "      <td>2</td>\n",
       "      <td>0</td>\n",
       "      <td>8</td>\n",
       "      <td>3</td>\n",
       "      <td>1</td>\n",
       "    </tr>\n",
       "    <tr>\n",
       "      <th>498</th>\n",
       "      <td>24</td>\n",
       "      <td>2.0</td>\n",
       "      <td>1.0</td>\n",
       "      <td>2</td>\n",
       "      <td>1</td>\n",
       "      <td>8</td>\n",
       "      <td>5</td>\n",
       "      <td>1</td>\n",
       "    </tr>\n",
       "    <tr>\n",
       "      <th>499</th>\n",
       "      <td>23</td>\n",
       "      <td>3.0</td>\n",
       "      <td>5.0</td>\n",
       "      <td>0</td>\n",
       "      <td>0</td>\n",
       "      <td>1</td>\n",
       "      <td>5</td>\n",
       "      <td>0</td>\n",
       "    </tr>\n",
       "    <tr>\n",
       "      <th>500</th>\n",
       "      <td>33</td>\n",
       "      <td>4.0</td>\n",
       "      <td>4.0</td>\n",
       "      <td>0</td>\n",
       "      <td>0</td>\n",
       "      <td>8</td>\n",
       "      <td>1</td>\n",
       "      <td>0</td>\n",
       "    </tr>\n",
       "    <tr>\n",
       "      <th>501</th>\n",
       "      <td>18</td>\n",
       "      <td>5.0</td>\n",
       "      <td>3.0</td>\n",
       "      <td>2</td>\n",
       "      <td>0</td>\n",
       "      <td>6</td>\n",
       "      <td>2</td>\n",
       "      <td>1</td>\n",
       "    </tr>\n",
       "  </tbody>\n",
       "</table>\n",
       "<p>502 rows × 8 columns</p>\n",
       "</div>"
      ],
      "text/plain": [
       "     Age  Academic Pressure  Study Satisfaction  Dietary Habits  \\\n",
       "0     28                2.0                 4.0               1   \n",
       "1     28                4.0                 5.0               0   \n",
       "2     25                1.0                 3.0               2   \n",
       "3     23                1.0                 4.0               2   \n",
       "4     31                1.0                 5.0               0   \n",
       "..   ...                ...                 ...             ...   \n",
       "497   26                5.0                 2.0               2   \n",
       "498   24                2.0                 1.0               2   \n",
       "499   23                3.0                 5.0               0   \n",
       "500   33                4.0                 4.0               0   \n",
       "501   18                5.0                 3.0               2   \n",
       "\n",
       "     Have you ever had suicidal thoughts ?  Study Hours  Financial Stress  \\\n",
       "0                                        1            9                 2   \n",
       "1                                        1            7                 1   \n",
       "2                                        1           10                 4   \n",
       "3                                        1            7                 2   \n",
       "4                                        1            4                 2   \n",
       "..                                     ...          ...               ...   \n",
       "497                                      0            8                 3   \n",
       "498                                      1            8                 5   \n",
       "499                                      0            1                 5   \n",
       "500                                      0            8                 1   \n",
       "501                                      0            6                 2   \n",
       "\n",
       "     Depression  \n",
       "0             0  \n",
       "1             0  \n",
       "2             1  \n",
       "3             0  \n",
       "4             0  \n",
       "..          ...  \n",
       "497           1  \n",
       "498           1  \n",
       "499           0  \n",
       "500           0  \n",
       "501           1  \n",
       "\n",
       "[502 rows x 8 columns]"
      ]
     },
     "execution_count": 26,
     "metadata": {},
     "output_type": "execute_result"
    }
   ],
   "source": [
    "\n",
    "correlation_with_target = {\n",
    "    \"Gender\": 0.031683,\n",
    "    \"Age\": -0.215625,\n",
    "    \"Academic Pressure\": 0.476259,\n",
    "    \"Study Satisfaction\": -0.293484,\n",
    "    \"Dietary Habits\": 0.186685,\n",
    "    \"Have you ever had suicidal thoughts ?\": 0.466296,\n",
    "    \"Study Hours\": 0.200441,\n",
    "    \"Financial Stress\": 0.296846,\n",
    "    \"Family History of Mental Illness\": 0.056087,\n",
    "    \"Depression\": 1.000000,\n",
    "    \"Sleep Duration Start\": -0.035794,\n",
    "    \"Sleep Duration End\": -0.064869\n",
    "}\n",
    "\n",
    "correlation_series = pd.Series(correlation_with_target)\n",
    "\n",
    "threshold = 0.15  \n",
    "\n",
    "features_to_keep = correlation_series[correlation_series.abs() >= threshold].index.tolist()\n",
    "\n",
    "df_filtered = df[features_to_keep]\n",
    "\n",
    "df_filtered"
   ]
  },
  {
   "cell_type": "code",
   "execution_count": 27,
   "id": "8367cbc0-c35a-48f6-90bb-a37b58d0f182",
   "metadata": {
    "execution": {
     "iopub.execute_input": "2025-05-02T14:46:04.947627Z",
     "iopub.status.busy": "2025-05-02T14:46:04.947442Z",
     "iopub.status.idle": "2025-05-02T14:46:04.965183Z",
     "shell.execute_reply": "2025-05-02T14:46:04.964587Z",
     "shell.execute_reply.started": "2025-05-02T14:46:04.947613Z"
    },
    "trusted": true
   },
   "outputs": [
    {
     "data": {
      "text/plain": [
       "Age                                     -0.215625\n",
       "Academic Pressure                        0.476259\n",
       "Study Satisfaction                      -0.293484\n",
       "Dietary Habits                           0.186685\n",
       "Have you ever had suicidal thoughts ?    0.466296\n",
       "Study Hours                              0.200441\n",
       "Financial Stress                         0.296846\n",
       "Depression                               1.000000\n",
       "Name: Depression, dtype: float64"
      ]
     },
     "execution_count": 27,
     "metadata": {},
     "output_type": "execute_result"
    }
   ],
   "source": [
    "df_filtered.corr()['Depression']"
   ]
  },
  {
   "cell_type": "code",
   "execution_count": 28,
   "id": "22873a2f-9e34-4773-a956-6c02853a949d",
   "metadata": {
    "execution": {
     "iopub.execute_input": "2025-05-02T14:46:04.965971Z",
     "iopub.status.busy": "2025-05-02T14:46:04.965728Z",
     "iopub.status.idle": "2025-05-02T14:46:04.985311Z",
     "shell.execute_reply": "2025-05-02T14:46:04.984671Z",
     "shell.execute_reply.started": "2025-05-02T14:46:04.965948Z"
    },
    "trusted": true
   },
   "outputs": [
    {
     "data": {
      "text/html": [
       "<div>\n",
       "<style scoped>\n",
       "    .dataframe tbody tr th:only-of-type {\n",
       "        vertical-align: middle;\n",
       "    }\n",
       "\n",
       "    .dataframe tbody tr th {\n",
       "        vertical-align: top;\n",
       "    }\n",
       "\n",
       "    .dataframe thead th {\n",
       "        text-align: right;\n",
       "    }\n",
       "</style>\n",
       "<table border=\"1\" class=\"dataframe\">\n",
       "  <thead>\n",
       "    <tr style=\"text-align: right;\">\n",
       "      <th></th>\n",
       "      <th>Age</th>\n",
       "      <th>Academic Pressure</th>\n",
       "      <th>Study Satisfaction</th>\n",
       "      <th>Dietary Habits</th>\n",
       "      <th>Have you ever had suicidal thoughts ?</th>\n",
       "      <th>Study Hours</th>\n",
       "      <th>Financial Stress</th>\n",
       "      <th>Depression</th>\n",
       "    </tr>\n",
       "  </thead>\n",
       "  <tbody>\n",
       "    <tr>\n",
       "      <th>225</th>\n",
       "      <td>25</td>\n",
       "      <td>2.0</td>\n",
       "      <td>2.0</td>\n",
       "      <td>2</td>\n",
       "      <td>0</td>\n",
       "      <td>4</td>\n",
       "      <td>5</td>\n",
       "      <td>0</td>\n",
       "    </tr>\n",
       "    <tr>\n",
       "      <th>441</th>\n",
       "      <td>22</td>\n",
       "      <td>1.0</td>\n",
       "      <td>2.0</td>\n",
       "      <td>0</td>\n",
       "      <td>1</td>\n",
       "      <td>3</td>\n",
       "      <td>4</td>\n",
       "      <td>0</td>\n",
       "    </tr>\n",
       "    <tr>\n",
       "      <th>71</th>\n",
       "      <td>27</td>\n",
       "      <td>4.0</td>\n",
       "      <td>2.0</td>\n",
       "      <td>2</td>\n",
       "      <td>1</td>\n",
       "      <td>0</td>\n",
       "      <td>2</td>\n",
       "      <td>1</td>\n",
       "    </tr>\n",
       "    <tr>\n",
       "      <th>239</th>\n",
       "      <td>24</td>\n",
       "      <td>4.0</td>\n",
       "      <td>3.0</td>\n",
       "      <td>0</td>\n",
       "      <td>1</td>\n",
       "      <td>3</td>\n",
       "      <td>5</td>\n",
       "      <td>1</td>\n",
       "    </tr>\n",
       "  </tbody>\n",
       "</table>\n",
       "</div>"
      ],
      "text/plain": [
       "     Age  Academic Pressure  Study Satisfaction  Dietary Habits  \\\n",
       "225   25                2.0                 2.0               2   \n",
       "441   22                1.0                 2.0               0   \n",
       "71    27                4.0                 2.0               2   \n",
       "239   24                4.0                 3.0               0   \n",
       "\n",
       "     Have you ever had suicidal thoughts ?  Study Hours  Financial Stress  \\\n",
       "225                                      0            4                 5   \n",
       "441                                      1            3                 4   \n",
       "71                                       1            0                 2   \n",
       "239                                      1            3                 5   \n",
       "\n",
       "     Depression  \n",
       "225           0  \n",
       "441           0  \n",
       "71            1  \n",
       "239           1  "
      ]
     },
     "execution_count": 28,
     "metadata": {},
     "output_type": "execute_result"
    }
   ],
   "source": [
    "df_filtered.sample(4)"
   ]
  },
  {
   "cell_type": "code",
   "execution_count": 29,
   "id": "73642e02-a24b-4d5e-9c2a-d6ee1ee97edf",
   "metadata": {
    "execution": {
     "iopub.execute_input": "2025-05-02T14:46:04.986220Z",
     "iopub.status.busy": "2025-05-02T14:46:04.985953Z",
     "iopub.status.idle": "2025-05-02T14:46:05.004725Z",
     "shell.execute_reply": "2025-05-02T14:46:05.004076Z",
     "shell.execute_reply.started": "2025-05-02T14:46:04.986203Z"
    },
    "trusted": true
   },
   "outputs": [
    {
     "name": "stderr",
     "output_type": "stream",
     "text": [
      "/tmp/ipykernel_31/2135084840.py:2: SettingWithCopyWarning: \n",
      "A value is trying to be set on a copy of a slice from a DataFrame.\n",
      "Try using .loc[row_indexer,col_indexer] = value instead\n",
      "\n",
      "See the caveats in the documentation: https://pandas.pydata.org/pandas-docs/stable/user_guide/indexing.html#returning-a-view-versus-a-copy\n",
      "  df_filtered['Age']=Scaler.fit_transform(df_filtered[['Age']])\n"
     ]
    }
   ],
   "source": [
    "Scaler=MinMaxScaler()\n",
    "df_filtered['Age']=Scaler.fit_transform(df_filtered[['Age']])"
   ]
  },
  {
   "cell_type": "markdown",
   "id": "c5ed5987-4d97-4c7d-8479-b73a20177a2e",
   "metadata": {},
   "source": [
    "## Modeling :\n",
    "  - HyperParameter Tuning \n",
    "  - Create model\n",
    "  - Choose Best Hyperparameter\n",
    "  - Train & Test\n",
    "  - Model Evaluation\n",
    "  - Deployment"
   ]
  },
  {
   "cell_type": "code",
   "execution_count": 33,
   "id": "0be3f6e3",
   "metadata": {
    "execution": {
     "iopub.execute_input": "2025-05-02T14:48:52.460893Z",
     "iopub.status.busy": "2025-05-02T14:48:52.460566Z",
     "iopub.status.idle": "2025-05-02T14:51:36.968731Z",
     "shell.execute_reply": "2025-05-02T14:51:36.968165Z",
     "shell.execute_reply.started": "2025-05-02T14:48:52.460870Z"
    },
    "trusted": true
   },
   "outputs": [
    {
     "name": "stdout",
     "output_type": "stream",
     "text": [
      "\n",
      "🔍 Running Genetic Search for: SVM\n",
      "gen\tnevals\tfitness \tfitness_std\tfitness_max\tfitness_min\n",
      "0  \t10    \t0.930713\t0.0297189  \t0.955216   \t0.867809   \n",
      "1  \t16    \t0.950951\t0.00709131 \t0.955216   \t0.930154   \n",
      "2  \t19    \t0.954457\t0.00115979 \t0.955216   \t0.952685   \n",
      "3  \t18    \t0.955216\t0          \t0.955216   \t0.955216   \n",
      "4  \t17    \t0.955216\t0          \t0.955216   \t0.955216   \n",
      "5  \t18    \t0.955216\t0          \t0.955216   \t0.955216   \n",
      "✅ Best params for SVM: {'C': 3.129849166425202, 'kernel': 'linear', 'gamma': 'auto'}\n",
      "✅ Accuracy on test set: 0.9505\n",
      "\n",
      "🔍 Running Genetic Search for: RandomForest\n",
      "gen\tnevals\tfitness \tfitness_std\tfitness_max\tfitness_min\n",
      "0  \t10    \t0.873123\t0.0111641  \t0.892778   \t0.850432   \n",
      "1  \t16    \t0.883343\t0.00598567 \t0.890309   \t0.870401   \n",
      "2  \t19    \t0.890074\t0.00561238 \t0.89784    \t0.88284    \n",
      "3  \t17    \t0.89308 \t0.0037656  \t0.89784    \t0.887809   \n",
      "4  \t17    \t0.893346\t0.00456511 \t0.89784    \t0.88784    \n",
      "5  \t20    \t0.89684 \t0.00634068 \t0.90534    \t0.88784    \n",
      "✅ Best params for RandomForest: {'n_estimators': 88, 'max_depth': 12, 'criterion': 'entropy'}\n",
      "✅ Accuracy on test set: 0.9109\n",
      "\n",
      "🔍 Running Genetic Search for: KNN\n",
      "gen\tnevals\tfitness \tfitness_std\tfitness_max\tfitness_min\n",
      "0  \t10    \t0.835318\t0.0285444  \t0.877716   \t0.790556   \n",
      "1  \t19    \t0.845278\t0.0196415  \t0.867778   \t0.822809   \n",
      "2  \t17    \t0.865765\t0.00782292 \t0.872716   \t0.842716   \n",
      "3  \t20    \t0.870265\t0.00416857 \t0.880247   \t0.867778   \n",
      "4  \t20    \t0.870759\t0.004137   \t0.880247   \t0.867778   \n",
      "5  \t15    \t0.874475\t0.00298133 \t0.880247   \t0.872716   \n",
      "✅ Best params for KNN: {'n_neighbors': 15, 'weights': 'uniform', 'p': 1}\n",
      "✅ Accuracy on test set: 0.8416\n",
      "\n",
      "🔍 Running Genetic Search for: LogisticRegression\n",
      "gen\tnevals\tfitness \tfitness_std\tfitness_max\tfitness_min\n",
      "0  \t10    \t0.938432\t0.019609   \t0.957685   \t0.905185   \n",
      "1  \t19    \t0.954676\t0.00151236 \t0.957685   \t0.952654   \n",
      "2  \t20    \t0.955685\t0.001      \t0.957685   \t0.955185   \n",
      "3  \t20    \t0.956185\t0.00122474 \t0.957685   \t0.955185   \n",
      "4  \t18    \t0.957185\t0.001      \t0.957685   \t0.955185   \n",
      "5  \t17    \t0.957685\t1.11022e-16\t0.957685   \t0.957685   \n",
      "✅ Best params for LogisticRegression: {'C': 9.621534761425792, 'solver': 'lbfgs'}\n",
      "✅ Accuracy on test set: 0.9406\n",
      "\n",
      "🔍 Running Genetic Search for: NaiveBayes\n",
      "gen\tnevals\tfitness \tfitness_std\tfitness_max\tfitness_min\n",
      "0  \t10    \t0.927593\t0          \t0.927593   \t0.927593   \n",
      "1  \t19    \t0.927593\t0          \t0.927593   \t0.927593   \n",
      "2  \t16    \t0.927593\t0          \t0.927593   \t0.927593   \n",
      "3  \t19    \t0.927593\t0          \t0.927593   \t0.927593   \n",
      "4  \t16    \t0.927593\t0          \t0.927593   \t0.927593   \n",
      "5  \t20    \t0.927593\t0          \t0.927593   \t0.927593   \n",
      "✅ Best params for NaiveBayes: {'var_smoothing': 4.84220181947525e-08}\n",
      "✅ Accuracy on test set: 0.9307\n"
     ]
    }
   ],
   "source": [
    "\n",
    "# Prepare data\n",
    "X = df_filtered[['Age','Academic Pressure','Study Satisfaction','Dietary Habits',\n",
    "                 'Have you ever had suicidal thoughts ?','Study Hours','Financial Stress']]\n",
    "y = df_filtered['Depression']\n",
    "X_train, X_test, y_train, y_test = train_test_split(X, y, test_size=0.2, random_state=42)\n",
    "\n",
    "# Define models and genetic search spaces\n",
    "models_params = {\n",
    "    'SVM': (SVC(), {\n",
    "        'C': Continuous(0.1, 10),\n",
    "        'kernel': Categorical(['linear', 'rbf']),\n",
    "        'gamma': Categorical(['scale', 'auto'])\n",
    "    }),\n",
    "    'RandomForest': (RandomForestClassifier(), {\n",
    "        'n_estimators': Integer(10, 100),\n",
    "        'max_depth': Integer(5, 20),\n",
    "        'criterion': Categorical(['gini', 'entropy'])\n",
    "    }),\n",
    "    'KNN': (KNeighborsClassifier(), {\n",
    "        'n_neighbors': Integer(3, 20),\n",
    "        'weights': Categorical(['uniform', 'distance']),\n",
    "        'p': Integer(1, 2)  # 1: Manhattan, 2: Euclidean\n",
    "    }),\n",
    "    'LogisticRegression': (LogisticRegression(max_iter=1000), {\n",
    "        'C': Continuous(0.01, 10),\n",
    "        'solver': Categorical(['liblinear', 'lbfgs'])\n",
    "    }),\n",
    "    'NaiveBayes': (GaussianNB(), {\n",
    "        'var_smoothing': Continuous(1e-11, 1e-7)\n",
    "    }),\n",
    "}\n",
    "\n",
    "# Run genetic search for each model\n",
    "for name, (model, param_grid) in models_params.items():\n",
    "    print(f\"\\n🔍 Running Genetic Search for: {name}\")\n",
    "    \n",
    "    search = GASearchCV(\n",
    "        estimator=model,\n",
    "        param_grid=param_grid,\n",
    "        scoring='accuracy',\n",
    "        cv=5,\n",
    "        verbose=3,  # Increase verbosity for debugging\n",
    "        n_jobs=1,  # Disable parallelism\n",
    "        population_size=10,\n",
    "        generations=5,\n",
    "    )\n",
    "    \n",
    "    # Fit the model using the genetic algorithm search\n",
    "    search.fit(X_train, y_train)\n",
    "    \n",
    "    # Make predictions on the test set\n",
    "    y_pred = search.predict(X_test)\n",
    "    \n",
    "    # Calculate accuracy score\n",
    "    acc = accuracy_score(y_test, y_pred)\n",
    "    \n",
    "    # Print best parameters and accuracy\n",
    "    print(f\"✅ Best params for {name}: {search.best_params_}\")\n",
    "    print(f\"✅ Accuracy on test set: {acc:.4f}\")\n"
   ]
  },
  {
   "cell_type": "code",
   "execution_count": 35,
   "id": "47598e81-638b-4286-b4b4-8a03c883064a",
   "metadata": {
    "execution": {
     "iopub.execute_input": "2025-05-02T14:51:57.962351Z",
     "iopub.status.busy": "2025-05-02T14:51:57.962051Z",
     "iopub.status.idle": "2025-05-02T14:51:59.000012Z",
     "shell.execute_reply": "2025-05-02T14:51:58.999349Z",
     "shell.execute_reply.started": "2025-05-02T14:51:57.962332Z"
    },
    "trusted": true
   },
   "outputs": [
    {
     "name": "stdout",
     "output_type": "stream",
     "text": [
      "\n",
      "✅ Evaluation for Logistic Regression:\n",
      "\n",
      "Accuracy: 0.9406\n",
      "Classification Report:\n",
      "               precision    recall  f1-score   support\n",
      "\n",
      "Not Depressed       0.96      0.92      0.94        48\n",
      "    Depressed       0.93      0.96      0.94        53\n",
      "\n",
      "     accuracy                           0.94       101\n",
      "    macro avg       0.94      0.94      0.94       101\n",
      " weighted avg       0.94      0.94      0.94       101\n",
      "\n"
     ]
    },
    {
     "data": {
      "image/png": "[encoded data removed]",
      "text/plain": [
       "<Figure size 640x480 with 2 Axes>"
      ]
     },
     "metadata": {},
     "output_type": "display_data"
    },
    {
     "name": "stdout",
     "output_type": "stream",
     "text": [
      "\n",
      "✅ Evaluation for SVM:\n",
      "\n",
      "Accuracy: 0.9505\n",
      "Classification Report:\n",
      "               precision    recall  f1-score   support\n",
      "\n",
      "Not Depressed       0.96      0.94      0.95        48\n",
      "    Depressed       0.94      0.96      0.95        53\n",
      "\n",
      "     accuracy                           0.95       101\n",
      "    macro avg       0.95      0.95      0.95       101\n",
      " weighted avg       0.95      0.95      0.95       101\n",
      "\n"
     ]
    },
    {
     "data": {
      "image/png": "[encoded data removed]",
      "text/plain": [
       "<Figure size 640x480 with 2 Axes>"
      ]
     },
     "metadata": {},
     "output_type": "display_data"
    },
    {
     "name": "stdout",
     "output_type": "stream",
     "text": [
      "\n",
      "✅ Evaluation for Random Forest:\n",
      "\n",
      "Accuracy: 0.9406\n",
      "Classification Report:\n",
      "               precision    recall  f1-score   support\n",
      "\n",
      "Not Depressed       0.96      0.92      0.94        48\n",
      "    Depressed       0.93      0.96      0.94        53\n",
      "\n",
      "     accuracy                           0.94       101\n",
      "    macro avg       0.94      0.94      0.94       101\n",
      " weighted avg       0.94      0.94      0.94       101\n",
      "\n"
     ]
    },
    {
     "data": {
      "image/png": "[encoded data removed]",
      "text/plain": [
       "<Figure size 640x480 with 2 Axes>"
      ]
     },
     "metadata": {},
     "output_type": "display_data"
    },
    {
     "name": "stdout",
     "output_type": "stream",
     "text": [
      "\n",
      "✅ Evaluation for K-Nearest Neighbors:\n",
      "\n",
      "Accuracy: 0.8416\n",
      "Classification Report:\n",
      "               precision    recall  f1-score   support\n",
      "\n",
      "Not Depressed       0.86      0.79      0.83        48\n",
      "    Depressed       0.82      0.89      0.85        53\n",
      "\n",
      "     accuracy                           0.84       101\n",
      "    macro avg       0.84      0.84      0.84       101\n",
      " weighted avg       0.84      0.84      0.84       101\n",
      "\n"
     ]
    },
    {
     "data": {
      "image/png": "[encoded data removed]",
      "text/plain": [
       "<Figure size 640x480 with 2 Axes>"
      ]
     },
     "metadata": {},
     "output_type": "display_data"
    },
    {
     "name": "stdout",
     "output_type": "stream",
     "text": [
      "\n",
      "✅ Evaluation for Naive Bayes:\n",
      "\n",
      "Accuracy: 0.9307\n",
      "Classification Report:\n",
      "               precision    recall  f1-score   support\n",
      "\n",
      "Not Depressed       0.94      0.92      0.93        48\n",
      "    Depressed       0.93      0.94      0.93        53\n",
      "\n",
      "     accuracy                           0.93       101\n",
      "    macro avg       0.93      0.93      0.93       101\n",
      " weighted avg       0.93      0.93      0.93       101\n",
      "\n"
     ]
    },
    {
     "data": {
      "image/png": "[encoded data removed]",
      "text/plain": [
       "<Figure size 640x480 with 2 Axes>"
      ]
     },
     "metadata": {},
     "output_type": "display_data"
    }
   ],
   "source": [
    "# Best parameters based on your previous results\n",
    "best_params = {\n",
    "    'LogisticRegression': {'C': 9.694471804958633, 'solver': 'lbfgs'},\n",
    "    'SVM': {'C':3.129849166425202, 'kernel': 'linear', 'gamma': 'auto'},\n",
    "    'RandomForest': {'n_estimators': 88, 'max_depth': 12, 'criterion': 'entropy'},\n",
    "    'KNN': {'n_neighbors': 15, 'weights': 'uniform', 'p': 1},\n",
    "    'NaiveBayes': {'var_smoothing': 6.966704056030733e-08}\n",
    "}\n",
    "\n",
    "# Define models with best parameters\n",
    "lr = LogisticRegression(**best_params['LogisticRegression'], max_iter=1000)\n",
    "svm = SVC(**best_params['SVM'])\n",
    "rf = RandomForestClassifier(**best_params['RandomForest'])\n",
    "knn = KNeighborsClassifier(**best_params['KNN'])\n",
    "nb = GaussianNB(var_smoothing=best_params['NaiveBayes']['var_smoothing'])\n",
    "\n",
    "# Prepare data (replace df_filtered with your actual DataFrame)\n",
    "X = df_filtered[['Age', 'Academic Pressure', 'Study Satisfaction', 'Dietary Habits',\n",
    "                 'Have you ever had suicidal thoughts ?', 'Study Hours', 'Financial Stress']]\n",
    "y = df_filtered['Depression']\n",
    "\n",
    "# Split the data\n",
    "X_train, X_test, y_train, y_test = train_test_split(X, y, test_size=0.2, random_state=42)\n",
    "\n",
    "# Function to plot the confusion matrix\n",
    "def plot_confusion_matrix(y_test, y_pred, title):\n",
    "    cm = confusion_matrix(y_test, y_pred)\n",
    "    disp = ConfusionMatrixDisplay(confusion_matrix=cm)\n",
    "    disp.plot(cmap='Blues')\n",
    "    plt.title(title)\n",
    "    plt.show()\n",
    "\n",
    "# All models in a dictionary\n",
    "models = {\n",
    "    'Logistic Regression': lr,\n",
    "    'SVM': svm,\n",
    "    'Random Forest': rf,\n",
    "    'K-Nearest Neighbors': knn,\n",
    "    'Naive Bayes': nb\n",
    "}\n",
    "\n",
    "# Evaluate each model\n",
    "for model_name, model in models.items():\n",
    "    print(f\"\\n✅ Evaluation for {model_name}:\\n\")\n",
    "    model.fit(X_train, y_train)\n",
    "    y_pred = model.predict(X_test)\n",
    "\n",
    "    # Accuracy\n",
    "    acc = accuracy_score(y_test, y_pred)\n",
    "    \n",
    "    # Classification Report\n",
    "    report = classification_report(y_test, y_pred, target_names=[\"Not Depressed\", \"Depressed\"])\n",
    "    \n",
    "    # Output\n",
    "    print(f\"Accuracy: {acc:.4f}\")\n",
    "    print(f\"Classification Report:\\n{report}\")\n",
    "    \n",
    "    # Confusion Matrix\n",
    "    plot_confusion_matrix(y_test, y_pred, f\"Confusion Matrix: {model_name}\")\n"
   ]
  },
  {
   "cell_type": "code",
   "execution_count": 36,
   "id": "d7221586-c8e3-493f-8173-8c82369f08bc",
   "metadata": {
    "execution": {
     "iopub.execute_input": "2025-05-02T14:52:06.023542Z",
     "iopub.status.busy": "2025-05-02T14:52:06.023270Z",
     "iopub.status.idle": "2025-05-02T14:52:06.060305Z",
     "shell.execute_reply": "2025-05-02T14:52:06.059736Z",
     "shell.execute_reply.started": "2025-05-02T14:52:06.023522Z"
    },
    "trusted": true
   },
   "outputs": [
    {
     "name": "stdout",
     "output_type": "stream",
     "text": [
      "✅ Saved SVM model as best_svm_model.pkl\n",
      "✅ Saved Random Forest model as best_rf_model.pkl\n",
      "✅ Saved Logistic Regression model as best_lr_model.pkl\n",
      "✅ Saved KNN model as best_knn_model.pkl\n",
      "✅ Saved Naive Bayes model as best_nb_model.pkl\n"
     ]
    }
   ],
   "source": [
    "import joblib\n",
    "\n",
    "# Save the best models\n",
    "joblib.dump(svm, \"best_svm_model.pkl\")\n",
    "print(\"✅ Saved SVM model as best_svm_model.pkl\")\n",
    "\n",
    "joblib.dump(rf, \"best_rf_model.pkl\")\n",
    "print(\"✅ Saved Random Forest model as best_rf_model.pkl\")\n",
    "\n",
    "joblib.dump(lr, \"best_lr_model.pkl\")\n",
    "print(\"✅ Saved Logistic Regression model as best_lr_model.pkl\")\n",
    "\n",
    "joblib.dump(knn, \"best_knn_model.pkl\")\n",
    "print(\"✅ Saved KNN model as best_knn_model.pkl\")\n",
    "\n",
    "joblib.dump(nb, \"best_nb_model.pkl\")\n",
    "print(\"✅ Saved Naive Bayes model as best_nb_model.pkl\")\n"
   ]
  },
  {
   "cell_type": "markdown",
   "id": "89680330-3a77-4b4e-a6a0-09712677d347",
   "metadata": {},
   "source": [
    "## **DL Model And Evalutions**"
   ]
  },
  {
   "cell_type": "code",
   "execution_count": 37,
   "id": "74dfa68c-3a6e-4bb6-ab75-e6ff608866ce",
   "metadata": {
    "execution": {
     "iopub.execute_input": "2025-05-02T14:52:08.061039Z",
     "iopub.status.busy": "2025-05-02T14:52:08.060434Z",
     "iopub.status.idle": "2025-05-02T14:52:23.204724Z",
     "shell.execute_reply": "2025-05-02T14:52:23.203859Z",
     "shell.execute_reply.started": "2025-05-02T14:52:08.061016Z"
    },
    "trusted": true
   },
   "outputs": [
    {
     "name": "stderr",
     "output_type": "stream",
     "text": [
      "I0000 00:00:1746197530.614657      31 gpu_device.cc:2022] Created device /job:localhost/replica:0/task:0/device:GPU:0 with 13942 MB memory:  -> device: 0, name: Tesla T4, pci bus id: 0000:00:04.0, compute capability: 7.5\n",
      "I0000 00:00:1746197530.615364      31 gpu_device.cc:2022] Created device /job:localhost/replica:0/task:0/device:GPU:1 with 13942 MB memory:  -> device: 1, name: Tesla T4, pci bus id: 0000:00:05.0, compute capability: 7.5\n"
     ]
    },
    {
     "name": "stdout",
     "output_type": "stream",
     "text": [
      "Epoch 1/100\n"
     ]
    },
    {
     "name": "stderr",
     "output_type": "stream",
     "text": [
      "WARNING: All log messages before absl::InitializeLog() is called are written to STDERR\n",
      "I0000 00:00:1746197534.361075     140 service.cc:148] XLA service 0x7eca4c00aad0 initialized for platform CUDA (this does not guarantee that XLA will be used). Devices:\n",
      "I0000 00:00:1746197534.362177     140 service.cc:156]   StreamExecutor device (0): Tesla T4, Compute Capability 7.5\n",
      "I0000 00:00:1746197534.362197     140 service.cc:156]   StreamExecutor device (1): Tesla T4, Compute Capability 7.5\n",
      "I0000 00:00:1746197534.730405     140 cuda_dnn.cc:529] Loaded cuDNN version 90300\n"
     ]
    },
    {
     "name": "stdout",
     "output_type": "stream",
     "text": [
      "\u001b[1m 1/13\u001b[0m \u001b[32m━\u001b[0m\u001b[37m━━━━━━━━━━━━━━━━━━━\u001b[0m \u001b[1m47s\u001b[0m 4s/step - accuracy: 0.3750 - loss: 0.8982"
     ]
    },
    {
     "name": "stderr",
     "output_type": "stream",
     "text": [
      "I0000 00:00:1746197536.446392     140 device_compiler.h:188] Compiled cluster using XLA!  This line is logged at most once for the lifetime of the process.\n"
     ]
    },
    {
     "name": "stdout",
     "output_type": "stream",
     "text": [
      "\u001b[1m13/13\u001b[0m \u001b[32m━━━━━━━━━━━━━━━━━━━━\u001b[0m\u001b[37m\u001b[0m \u001b[1m6s\u001b[0m 204ms/step - accuracy: 0.5147 - loss: 0.7400 - val_accuracy: 0.5446 - val_loss: 0.6791\n",
      "Epoch 2/100\n",
      "\u001b[1m13/13\u001b[0m \u001b[32m━━━━━━━━━━━━━━━━━━━━\u001b[0m\u001b[37m\u001b[0m \u001b[1m0s\u001b[0m 4ms/step - accuracy: 0.5892 - loss: 0.6614 - val_accuracy: 0.7030 - val_loss: 0.6017\n",
      "Epoch 3/100\n",
      "\u001b[1m13/13\u001b[0m \u001b[32m━━━━━━━━━━━━━━━━━━━━\u001b[0m\u001b[37m\u001b[0m \u001b[1m0s\u001b[0m 3ms/step - accuracy: 0.6756 - loss: 0.6151 - val_accuracy: 0.7525 - val_loss: 0.5453\n",
      "Epoch 4/100\n",
      "\u001b[1m13/13\u001b[0m \u001b[32m━━━━━━━━━━━━━━━━━━━━\u001b[0m\u001b[37m\u001b[0m \u001b[1m0s\u001b[0m 3ms/step - accuracy: 0.7164 - loss: 0.5804 - val_accuracy: 0.7723 - val_loss: 0.5263\n",
      "Epoch 5/100\n",
      "\u001b[1m13/13\u001b[0m \u001b[32m━━━━━━━━━━━━━━━━━━━━\u001b[0m\u001b[37m\u001b[0m \u001b[1m0s\u001b[0m 3ms/step - accuracy: 0.7634 - loss: 0.5331 - val_accuracy: 0.7921 - val_loss: 0.4585\n",
      "Epoch 6/100\n",
      "\u001b[1m13/13\u001b[0m \u001b[32m━━━━━━━━━━━━━━━━━━━━\u001b[0m\u001b[37m\u001b[0m \u001b[1m0s\u001b[0m 4ms/step - accuracy: 0.7491 - loss: 0.5082 - val_accuracy: 0.8218 - val_loss: 0.4274\n",
      "Epoch 7/100\n",
      "\u001b[1m13/13\u001b[0m \u001b[32m━━━━━━━━━━━━━━━━━━━━\u001b[0m\u001b[37m\u001b[0m \u001b[1m0s\u001b[0m 3ms/step - accuracy: 0.7771 - loss: 0.4551 - val_accuracy: 0.7921 - val_loss: 0.3833\n",
      "Epoch 8/100\n",
      "\u001b[1m13/13\u001b[0m \u001b[32m━━━━━━━━━━━━━━━━━━━━\u001b[0m\u001b[37m\u001b[0m \u001b[1m0s\u001b[0m 3ms/step - accuracy: 0.7835 - loss: 0.4838 - val_accuracy: 0.8218 - val_loss: 0.3623\n",
      "Epoch 9/100\n",
      "\u001b[1m13/13\u001b[0m \u001b[32m━━━━━━━━━━━━━━━━━━━━\u001b[0m\u001b[37m\u001b[0m \u001b[1m0s\u001b[0m 3ms/step - accuracy: 0.7694 - loss: 0.4515 - val_accuracy: 0.8614 - val_loss: 0.3446\n",
      "Epoch 10/100\n",
      "\u001b[1m13/13\u001b[0m \u001b[32m━━━━━━━━━━━━━━━━━━━━\u001b[0m\u001b[37m\u001b[0m \u001b[1m0s\u001b[0m 3ms/step - accuracy: 0.8084 - loss: 0.4333 - val_accuracy: 0.8812 - val_loss: 0.3216\n",
      "Epoch 11/100\n",
      "\u001b[1m13/13\u001b[0m \u001b[32m━━━━━━━━━━━━━━━━━━━━\u001b[0m\u001b[37m\u001b[0m \u001b[1m0s\u001b[0m 3ms/step - accuracy: 0.7957 - loss: 0.3701 - val_accuracy: 0.9109 - val_loss: 0.3022\n",
      "Epoch 12/100\n",
      "\u001b[1m13/13\u001b[0m \u001b[32m━━━━━━━━━━━━━━━━━━━━\u001b[0m\u001b[37m\u001b[0m \u001b[1m0s\u001b[0m 3ms/step - accuracy: 0.8283 - loss: 0.3590 - val_accuracy: 0.9010 - val_loss: 0.2815\n",
      "Epoch 13/100\n",
      "\u001b[1m13/13\u001b[0m \u001b[32m━━━━━━━━━━━━━━━━━━━━\u001b[0m\u001b[37m\u001b[0m \u001b[1m0s\u001b[0m 3ms/step - accuracy: 0.8525 - loss: 0.3733 - val_accuracy: 0.9010 - val_loss: 0.2680\n",
      "Epoch 14/100\n",
      "\u001b[1m13/13\u001b[0m \u001b[32m━━━━━━━━━━━━━━━━━━━━\u001b[0m\u001b[37m\u001b[0m \u001b[1m0s\u001b[0m 3ms/step - accuracy: 0.8708 - loss: 0.3178 - val_accuracy: 0.9010 - val_loss: 0.2679\n",
      "Epoch 15/100\n",
      "\u001b[1m13/13\u001b[0m \u001b[32m━━━━━━━━━━━━━━━━━━━━\u001b[0m\u001b[37m\u001b[0m \u001b[1m0s\u001b[0m 3ms/step - accuracy: 0.8412 - loss: 0.3382 - val_accuracy: 0.8812 - val_loss: 0.2428\n",
      "Epoch 16/100\n",
      "\u001b[1m13/13\u001b[0m \u001b[32m━━━━━━━━━━━━━━━━━━━━\u001b[0m\u001b[37m\u001b[0m \u001b[1m0s\u001b[0m 3ms/step - accuracy: 0.8612 - loss: 0.2919 - val_accuracy: 0.9010 - val_loss: 0.2398\n",
      "Epoch 17/100\n",
      "\u001b[1m13/13\u001b[0m \u001b[32m━━━━━━━━━━━━━━━━━━━━\u001b[0m\u001b[37m\u001b[0m \u001b[1m0s\u001b[0m 3ms/step - accuracy: 0.8584 - loss: 0.3160 - val_accuracy: 0.9505 - val_loss: 0.2202\n",
      "Epoch 18/100\n",
      "\u001b[1m13/13\u001b[0m \u001b[32m━━━━━━━━━━━━━━━━━━━━\u001b[0m\u001b[37m\u001b[0m \u001b[1m0s\u001b[0m 3ms/step - accuracy: 0.9009 - loss: 0.2721 - val_accuracy: 0.8911 - val_loss: 0.2254\n",
      "Epoch 19/100\n",
      "\u001b[1m13/13\u001b[0m \u001b[32m━━━━━━━━━━━━━━━━━━━━\u001b[0m\u001b[37m\u001b[0m \u001b[1m0s\u001b[0m 3ms/step - accuracy: 0.8913 - loss: 0.2744 - val_accuracy: 0.9307 - val_loss: 0.2014\n",
      "Epoch 20/100\n",
      "\u001b[1m13/13\u001b[0m \u001b[32m━━━━━━━━━━━━━━━━━━━━\u001b[0m\u001b[37m\u001b[0m \u001b[1m0s\u001b[0m 3ms/step - accuracy: 0.8652 - loss: 0.3084 - val_accuracy: 0.9307 - val_loss: 0.1916\n",
      "Epoch 21/100\n",
      "\u001b[1m13/13\u001b[0m \u001b[32m━━━━━━━━━━━━━━━━━━━━\u001b[0m\u001b[37m\u001b[0m \u001b[1m0s\u001b[0m 3ms/step - accuracy: 0.8691 - loss: 0.3037 - val_accuracy: 0.9406 - val_loss: 0.1885\n",
      "Epoch 22/100\n",
      "\u001b[1m13/13\u001b[0m \u001b[32m━━━━━━━━━━━━━━━━━━━━\u001b[0m\u001b[37m\u001b[0m \u001b[1m0s\u001b[0m 4ms/step - accuracy: 0.9093 - loss: 0.2372 - val_accuracy: 0.9406 - val_loss: 0.1775\n",
      "Epoch 23/100\n",
      "\u001b[1m13/13\u001b[0m \u001b[32m━━━━━━━━━━━━━━━━━━━━\u001b[0m\u001b[37m\u001b[0m \u001b[1m0s\u001b[0m 4ms/step - accuracy: 0.8963 - loss: 0.2367 - val_accuracy: 0.9505 - val_loss: 0.1653\n",
      "Epoch 24/100\n",
      "\u001b[1m13/13\u001b[0m \u001b[32m━━━━━━━━━━━━━━━━━━━━\u001b[0m\u001b[37m\u001b[0m \u001b[1m0s\u001b[0m 3ms/step - accuracy: 0.9100 - loss: 0.2170 - val_accuracy: 0.9505 - val_loss: 0.1777\n",
      "Epoch 25/100\n",
      "\u001b[1m13/13\u001b[0m \u001b[32m━━━━━━━━━━━━━━━━━━━━\u001b[0m\u001b[37m\u001b[0m \u001b[1m0s\u001b[0m 3ms/step - accuracy: 0.8788 - loss: 0.2434 - val_accuracy: 0.9307 - val_loss: 0.1740\n",
      "Epoch 26/100\n",
      "\u001b[1m13/13\u001b[0m \u001b[32m━━━━━━━━━━━━━━━━━━━━\u001b[0m\u001b[37m\u001b[0m \u001b[1m0s\u001b[0m 4ms/step - accuracy: 0.9054 - loss: 0.2399 - val_accuracy: 0.9604 - val_loss: 0.1527\n",
      "Epoch 27/100\n",
      "\u001b[1m13/13\u001b[0m \u001b[32m━━━━━━━━━━━━━━━━━━━━\u001b[0m\u001b[37m\u001b[0m \u001b[1m0s\u001b[0m 3ms/step - accuracy: 0.8832 - loss: 0.2247 - val_accuracy: 0.9505 - val_loss: 0.1615\n",
      "Epoch 28/100\n",
      "\u001b[1m13/13\u001b[0m \u001b[32m━━━━━━━━━━━━━━━━━━━━\u001b[0m\u001b[37m\u001b[0m \u001b[1m0s\u001b[0m 4ms/step - accuracy: 0.9118 - loss: 0.2228 - val_accuracy: 0.9406 - val_loss: 0.1443\n",
      "Epoch 29/100\n",
      "\u001b[1m13/13\u001b[0m \u001b[32m━━━━━━━━━━━━━━━━━━━━\u001b[0m\u001b[37m\u001b[0m \u001b[1m0s\u001b[0m 3ms/step - accuracy: 0.8904 - loss: 0.2649 - val_accuracy: 0.9505 - val_loss: 0.1513\n",
      "Epoch 30/100\n",
      "\u001b[1m13/13\u001b[0m \u001b[32m━━━━━━━━━━━━━━━━━━━━\u001b[0m\u001b[37m\u001b[0m \u001b[1m0s\u001b[0m 3ms/step - accuracy: 0.8896 - loss: 0.2484 - val_accuracy: 0.9307 - val_loss: 0.1464\n",
      "Epoch 31/100\n",
      "\u001b[1m13/13\u001b[0m \u001b[32m━━━━━━━━━━━━━━━━━━━━\u001b[0m\u001b[37m\u001b[0m \u001b[1m0s\u001b[0m 3ms/step - accuracy: 0.8963 - loss: 0.2564 - val_accuracy: 0.9505 - val_loss: 0.1474\n",
      "Epoch 32/100\n",
      "\u001b[1m13/13\u001b[0m \u001b[32m━━━━━━━━━━━━━━━━━━━━\u001b[0m\u001b[37m\u001b[0m \u001b[1m0s\u001b[0m 4ms/step - accuracy: 0.9324 - loss: 0.1903 - val_accuracy: 0.9604 - val_loss: 0.1410\n",
      "Epoch 33/100\n",
      "\u001b[1m13/13\u001b[0m \u001b[32m━━━━━━━━━━━━━━━━━━━━\u001b[0m\u001b[37m\u001b[0m \u001b[1m0s\u001b[0m 4ms/step - accuracy: 0.9371 - loss: 0.1970 - val_accuracy: 0.9703 - val_loss: 0.1275\n",
      "Epoch 34/100\n",
      "\u001b[1m13/13\u001b[0m \u001b[32m━━━━━━━━━━━━━━━━━━━━\u001b[0m\u001b[37m\u001b[0m \u001b[1m0s\u001b[0m 3ms/step - accuracy: 0.9507 - loss: 0.1667 - val_accuracy: 0.9604 - val_loss: 0.1280\n",
      "Epoch 35/100\n",
      "\u001b[1m13/13\u001b[0m \u001b[32m━━━━━━━━━━━━━━━━━━━━\u001b[0m\u001b[37m\u001b[0m \u001b[1m0s\u001b[0m 4ms/step - accuracy: 0.9035 - loss: 0.2371 - val_accuracy: 0.9604 - val_loss: 0.1271\n",
      "Epoch 36/100\n",
      "\u001b[1m13/13\u001b[0m \u001b[32m━━━━━━━━━━━━━━━━━━━━\u001b[0m\u001b[37m\u001b[0m \u001b[1m0s\u001b[0m 4ms/step - accuracy: 0.9180 - loss: 0.2265 - val_accuracy: 0.9703 - val_loss: 0.1195\n",
      "Epoch 37/100\n",
      "\u001b[1m13/13\u001b[0m \u001b[32m━━━━━━━━━━━━━━━━━━━━\u001b[0m\u001b[37m\u001b[0m \u001b[1m0s\u001b[0m 3ms/step - accuracy: 0.9218 - loss: 0.1766 - val_accuracy: 0.9604 - val_loss: 0.1220\n",
      "Epoch 38/100\n",
      "\u001b[1m13/13\u001b[0m \u001b[32m━━━━━━━━━━━━━━━━━━━━\u001b[0m\u001b[37m\u001b[0m \u001b[1m0s\u001b[0m 4ms/step - accuracy: 0.9109 - loss: 0.2068 - val_accuracy: 0.9604 - val_loss: 0.1227\n",
      "Epoch 39/100\n",
      "\u001b[1m13/13\u001b[0m \u001b[32m━━━━━━━━━━━━━━━━━━━━\u001b[0m\u001b[37m\u001b[0m \u001b[1m0s\u001b[0m 4ms/step - accuracy: 0.9198 - loss: 0.1930 - val_accuracy: 0.9604 - val_loss: 0.1237\n",
      "Epoch 40/100\n",
      "\u001b[1m13/13\u001b[0m \u001b[32m━━━━━━━━━━━━━━━━━━━━\u001b[0m\u001b[37m\u001b[0m \u001b[1m0s\u001b[0m 3ms/step - accuracy: 0.9475 - loss: 0.1512 - val_accuracy: 0.9604 - val_loss: 0.1210\n",
      "Epoch 41/100\n",
      "\u001b[1m13/13\u001b[0m \u001b[32m━━━━━━━━━━━━━━━━━━━━\u001b[0m\u001b[37m\u001b[0m \u001b[1m0s\u001b[0m 4ms/step - accuracy: 0.9362 - loss: 0.1551 - val_accuracy: 0.9703 - val_loss: 0.1120\n",
      "Epoch 42/100\n",
      "\u001b[1m13/13\u001b[0m \u001b[32m━━━━━━━━━━━━━━━━━━━━\u001b[0m\u001b[37m\u001b[0m \u001b[1m0s\u001b[0m 3ms/step - accuracy: 0.9446 - loss: 0.1726 - val_accuracy: 0.9703 - val_loss: 0.1186\n",
      "Epoch 43/100\n",
      "\u001b[1m13/13\u001b[0m \u001b[32m━━━━━━━━━━━━━━━━━━━━\u001b[0m\u001b[37m\u001b[0m \u001b[1m0s\u001b[0m 3ms/step - accuracy: 0.9166 - loss: 0.1831 - val_accuracy: 0.9406 - val_loss: 0.1316\n",
      "Epoch 44/100\n",
      "\u001b[1m13/13\u001b[0m \u001b[32m━━━━━━━━━━━━━━━━━━━━\u001b[0m\u001b[37m\u001b[0m \u001b[1m0s\u001b[0m 4ms/step - accuracy: 0.9293 - loss: 0.2020 - val_accuracy: 0.9505 - val_loss: 0.1189\n",
      "Epoch 45/100\n",
      "\u001b[1m13/13\u001b[0m \u001b[32m━━━━━━━━━━━━━━━━━━━━\u001b[0m\u001b[37m\u001b[0m \u001b[1m0s\u001b[0m 3ms/step - accuracy: 0.9138 - loss: 0.2034 - val_accuracy: 0.9604 - val_loss: 0.1171\n",
      "Epoch 46/100\n",
      "\u001b[1m13/13\u001b[0m \u001b[32m━━━━━━━━━━━━━━━━━━━━\u001b[0m\u001b[37m\u001b[0m \u001b[1m0s\u001b[0m 4ms/step - accuracy: 0.9387 - loss: 0.1623 - val_accuracy: 0.9703 - val_loss: 0.1051\n",
      "Epoch 47/100\n",
      "\u001b[1m13/13\u001b[0m \u001b[32m━━━━━━━━━━━━━━━━━━━━\u001b[0m\u001b[37m\u001b[0m \u001b[1m0s\u001b[0m 3ms/step - accuracy: 0.9319 - loss: 0.1535 - val_accuracy: 0.9406 - val_loss: 0.1218\n",
      "Epoch 48/100\n",
      "\u001b[1m13/13\u001b[0m \u001b[32m━━━━━━━━━━━━━━━━━━━━\u001b[0m\u001b[37m\u001b[0m \u001b[1m0s\u001b[0m 4ms/step - accuracy: 0.9216 - loss: 0.1716 - val_accuracy: 0.9703 - val_loss: 0.0978\n",
      "Epoch 49/100\n",
      "\u001b[1m13/13\u001b[0m \u001b[32m━━━━━━━━━━━━━━━━━━━━\u001b[0m\u001b[37m\u001b[0m \u001b[1m0s\u001b[0m 3ms/step - accuracy: 0.9424 - loss: 0.1423 - val_accuracy: 0.9604 - val_loss: 0.1096\n",
      "Epoch 50/100\n",
      "\u001b[1m13/13\u001b[0m \u001b[32m━━━━━━━━━━━━━━━━━━━━\u001b[0m\u001b[37m\u001b[0m \u001b[1m0s\u001b[0m 3ms/step - accuracy: 0.9071 - loss: 0.2034 - val_accuracy: 0.9703 - val_loss: 0.1088\n",
      "Epoch 51/100\n",
      "\u001b[1m13/13\u001b[0m \u001b[32m━━━━━━━━━━━━━━━━━━━━\u001b[0m\u001b[37m\u001b[0m \u001b[1m0s\u001b[0m 4ms/step - accuracy: 0.9329 - loss: 0.1670 - val_accuracy: 0.9703 - val_loss: 0.1063\n",
      "Epoch 52/100\n",
      "\u001b[1m13/13\u001b[0m \u001b[32m━━━━━━━━━━━━━━━━━━━━\u001b[0m\u001b[37m\u001b[0m \u001b[1m0s\u001b[0m 3ms/step - accuracy: 0.9180 - loss: 0.2023 - val_accuracy: 0.9505 - val_loss: 0.1043\n",
      "Epoch 53/100\n",
      "\u001b[1m13/13\u001b[0m \u001b[32m━━━━━━━━━━━━━━━━━━━━\u001b[0m\u001b[37m\u001b[0m \u001b[1m0s\u001b[0m 3ms/step - accuracy: 0.9261 - loss: 0.1575 - val_accuracy: 0.9505 - val_loss: 0.1196\n",
      "\u001b[1m4/4\u001b[0m \u001b[32m━━━━━━━━━━━━━━━━━━━━\u001b[0m\u001b[37m\u001b[0m \u001b[1m0s\u001b[0m 55ms/step\n"
     ]
    },
    {
     "data": {
      "image/png": "[encoded data removed]",
      "text/plain": [
       "<Figure size 1200x500 with 2 Axes>"
      ]
     },
     "metadata": {},
     "output_type": "display_data"
    },
    {
     "name": "stdout",
     "output_type": "stream",
     "text": [
      "Classification Report:\n",
      "               precision    recall  f1-score   support\n",
      "\n",
      "Not Depressed       0.98      0.96      0.97        48\n",
      "    Depressed       0.96      0.98      0.97        53\n",
      "\n",
      "     accuracy                           0.97       101\n",
      "    macro avg       0.97      0.97      0.97       101\n",
      " weighted avg       0.97      0.97      0.97       101\n",
      "\n"
     ]
    },
    {
     "data": {
      "image/png": "[encoded data removed]",
      "text/plain": [
       "<Figure size 800x600 with 2 Axes>"
      ]
     },
     "metadata": {},
     "output_type": "display_data"
    },
    {
     "name": "stdout",
     "output_type": "stream",
     "text": [
      "Accuracy: 0.9703\n",
      "Model saved as optimized_ann_model.h5\n"
     ]
    }
   ],
   "source": [
    "# Define the optimized ANN model\n",
    "def create_optimized_ann(input_dim):\n",
    "    model = Sequential()\n",
    "    # Add layers with increased neurons and dropout to prevent overfitting\n",
    "    model.add(Dense(128, input_dim=input_dim, activation='relu'))\n",
    "    model.add(Dropout(0.3))  # Dropout layer to prevent overfitting\n",
    "    model.add(Dense(64, activation='relu'))\n",
    "    model.add(Dropout(0.3))  # Dropout layer to prevent overfitting\n",
    "    model.add(Dense(32, activation='relu'))\n",
    "    model.add(Dense(1, activation='sigmoid'))  # Binary classification\n",
    "    model.compile(optimizer=Adam(learning_rate=0.001), loss='binary_crossentropy', metrics=['accuracy'])\n",
    "    return model\n",
    "\n",
    "# Prepare data (Use the same features and target as before)\n",
    "X = df_filtered[['Age', 'Academic Pressure', 'Study Satisfaction', 'Dietary Habits', \n",
    "                 'Have you ever had suicidal thoughts ?', 'Study Hours', 'Financial Stress']]\n",
    "y = df_filtered['Depression']\n",
    "\n",
    "X_train, X_test, y_train, y_test = train_test_split(X, y, test_size=0.2, random_state=42)\n",
    "\n",
    "# Create the optimized ANN model\n",
    "ann_model = create_optimized_ann(X_train.shape[1])\n",
    "\n",
    "# Early stopping to avoid overfitting\n",
    "early_stopping = EarlyStopping(monitor='val_loss', patience=5, restore_best_weights=True)\n",
    "\n",
    "# Train the model\n",
    "history = ann_model.fit(X_train, y_train, epochs=100, batch_size=32, validation_data=(X_test, y_test), \n",
    "                        callbacks=[early_stopping])\n",
    "\n",
    "# Evaluate the model\n",
    "y_pred = (ann_model.predict(X_test) > 0.5).astype(\"int32\")\n",
    "\n",
    "# Accuracy score\n",
    "from sklearn.metrics import accuracy_score\n",
    "acc = accuracy_score(y_test, y_pred)\n",
    "\n",
    "# Classification Report\n",
    "report = classification_report(y_test, y_pred, target_names=[\"Not Depressed\", \"Depressed\"])\n",
    "\n",
    "# Confusion Matrix\n",
    "cm = confusion_matrix(y_test, y_pred)\n",
    "\n",
    "# Plotting the results\n",
    "# 1. Plot Accuracy and Loss\n",
    "plt.figure(figsize=(12, 5))\n",
    "\n",
    "# Accuracy plot\n",
    "plt.subplot(1, 2, 1)\n",
    "plt.plot(history.history['accuracy'], label='Training Accuracy')\n",
    "plt.plot(history.history['val_accuracy'], label='Validation Accuracy')\n",
    "plt.title('Model Accuracy')\n",
    "plt.xlabel('Epochs')\n",
    "plt.ylabel('Accuracy')\n",
    "plt.legend()\n",
    "\n",
    "# Loss plot\n",
    "plt.subplot(1, 2, 2)\n",
    "plt.plot(history.history['loss'], label='Training Loss')\n",
    "plt.plot(history.history['val_loss'], label='Validation Loss')\n",
    "plt.title('Model Loss')\n",
    "plt.xlabel('Epochs')\n",
    "plt.ylabel('Loss')\n",
    "plt.legend()\n",
    "\n",
    "plt.tight_layout()\n",
    "plt.show()\n",
    "\n",
    "# 2. Classification Report\n",
    "print(f\"Classification Report:\\n{report}\")\n",
    "\n",
    "# 3. Confusion Matrix\n",
    "plt.figure(figsize=(8, 6))\n",
    "sns.heatmap(cm, annot=True, fmt=\"d\", cmap=\"Blues\", xticklabels=[\"Not Depressed\", \"Depressed\"], yticklabels=[\"Not Depressed\", \"Depressed\"])\n",
    "plt.title(\"Confusion Matrix\")\n",
    "plt.xlabel('Predicted')\n",
    "plt.ylabel('Actual')\n",
    "plt.show()\n",
    "\n",
    "# Output accuracy\n",
    "print(f\"Accuracy: {acc:.4f}\")\n",
    "\n",
    "# Save the trained model\n",
    "ann_model.save(\"optimized_ann_model.h5\")  # Save the model in HDF5 format\n",
    "print(\"Model saved as optimized_ann_model.h5\")\n"
   ]
  }
 ],
 "metadata": {
  "kaggle": {
   "accelerator": "nvidiaTeslaT4",
   "dataSources": [
    {
     "datasetId": 7310115,
     "sourceId": 11648894,
     "sourceType": "datasetVersion"
    }
   ],
   "dockerImageVersionId": 31011,
   "isGpuEnabled": true,
   "isInternetEnabled": true,
   "language": "python",
   "sourceType": "notebook"
  },
  "kernelspec": {
   "display_name": "Python 3",
   "language": "python",
   "name": "python3"
  },
  "language_info": {
   "codemirror_mode": {
    "name": "ipython",
    "version": 3
   },
   "file_extension": ".py",
   "mimetype": "text/x-python",
   "name": "python",
   "nbconvert_exporter": "python",
   "pygments_lexer": "ipython3",
   "version": "3.11.11"
  }
 },
 "nbformat": 4,
 "nbformat_minor": 5
}
